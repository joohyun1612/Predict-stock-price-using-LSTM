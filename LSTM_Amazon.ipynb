{
  "cells": [
    {
      "cell_type": "markdown",
      "metadata": {
        "collapsed": true,
        "pycharm": {
          "name": "#%% md\n"
        },
        "id": "rrP8MNRfma64"
      },
      "source": [
        "# IMPORT DATASETS AND LIBRARIES"
      ]
    },
    {
      "cell_type": "code",
      "execution_count": null,
      "metadata": {
        "pycharm": {
          "name": "#%%\n"
        },
        "scrolled": false,
        "id": "7F03nPo5ma69"
      },
      "outputs": [],
      "source": [
        "import pandas as pd\n",
        "import matplotlib.pyplot as plt\n",
        "import numpy as np\n",
        "import plotly.express as px"
      ]
    },
    {
      "cell_type": "code",
      "source": [
        "from google.colab import drive\n",
        "drive.mount('/content/drive')"
      ],
      "metadata": {
        "colab": {
          "base_uri": "https://localhost:8080/"
        },
        "id": "AsdKyd6Omgsv",
        "outputId": "7c805fc0-621b-4553-f94e-4e60d45f396d"
      },
      "execution_count": null,
      "outputs": [
        {
          "output_type": "stream",
          "name": "stdout",
          "text": [
            "Mounted at /content/drive\n"
          ]
        }
      ]
    },
    {
      "cell_type": "code",
      "execution_count": null,
      "metadata": {
        "pycharm": {
          "name": "#%%\n"
        },
        "colab": {
          "base_uri": "https://localhost:8080/",
          "height": 423
        },
        "id": "y_zIhPnVma6-",
        "outputId": "83b8e4fa-4f40-49c9-cf69-6f4f438c7b91"
      },
      "outputs": [
        {
          "output_type": "execute_result",
          "data": {
            "text/html": [
              "\n",
              "  <div id=\"df-b86ae40a-0d36-4a23-8372-0fcf44049296\">\n",
              "    <div class=\"colab-df-container\">\n",
              "      <div>\n",
              "<style scoped>\n",
              "    .dataframe tbody tr th:only-of-type {\n",
              "        vertical-align: middle;\n",
              "    }\n",
              "\n",
              "    .dataframe tbody tr th {\n",
              "        vertical-align: top;\n",
              "    }\n",
              "\n",
              "    .dataframe thead th {\n",
              "        text-align: right;\n",
              "    }\n",
              "</style>\n",
              "<table border=\"1\" class=\"dataframe\">\n",
              "  <thead>\n",
              "    <tr style=\"text-align: right;\">\n",
              "      <th></th>\n",
              "      <th>Date</th>\n",
              "      <th>Close</th>\n",
              "    </tr>\n",
              "  </thead>\n",
              "  <tbody>\n",
              "    <tr>\n",
              "      <th>0</th>\n",
              "      <td>2019-01-02</td>\n",
              "      <td>1539.130005</td>\n",
              "    </tr>\n",
              "    <tr>\n",
              "      <th>1</th>\n",
              "      <td>2019-01-03</td>\n",
              "      <td>1500.280029</td>\n",
              "    </tr>\n",
              "    <tr>\n",
              "      <th>2</th>\n",
              "      <td>2019-01-04</td>\n",
              "      <td>1575.390015</td>\n",
              "    </tr>\n",
              "    <tr>\n",
              "      <th>3</th>\n",
              "      <td>2019-01-07</td>\n",
              "      <td>1629.510010</td>\n",
              "    </tr>\n",
              "    <tr>\n",
              "      <th>4</th>\n",
              "      <td>2019-01-08</td>\n",
              "      <td>1656.579956</td>\n",
              "    </tr>\n",
              "    <tr>\n",
              "      <th>...</th>\n",
              "      <td>...</td>\n",
              "      <td>...</td>\n",
              "    </tr>\n",
              "    <tr>\n",
              "      <th>246</th>\n",
              "      <td>2019-12-23</td>\n",
              "      <td>1793.000000</td>\n",
              "    </tr>\n",
              "    <tr>\n",
              "      <th>247</th>\n",
              "      <td>2019-12-24</td>\n",
              "      <td>1789.209961</td>\n",
              "    </tr>\n",
              "    <tr>\n",
              "      <th>248</th>\n",
              "      <td>2019-12-26</td>\n",
              "      <td>1868.770020</td>\n",
              "    </tr>\n",
              "    <tr>\n",
              "      <th>249</th>\n",
              "      <td>2019-12-27</td>\n",
              "      <td>1869.800049</td>\n",
              "    </tr>\n",
              "    <tr>\n",
              "      <th>250</th>\n",
              "      <td>2019-12-30</td>\n",
              "      <td>1846.890015</td>\n",
              "    </tr>\n",
              "  </tbody>\n",
              "</table>\n",
              "<p>251 rows × 2 columns</p>\n",
              "</div>\n",
              "      <button class=\"colab-df-convert\" onclick=\"convertToInteractive('df-b86ae40a-0d36-4a23-8372-0fcf44049296')\"\n",
              "              title=\"Convert this dataframe to an interactive table.\"\n",
              "              style=\"display:none;\">\n",
              "        \n",
              "  <svg xmlns=\"http://www.w3.org/2000/svg\" height=\"24px\"viewBox=\"0 0 24 24\"\n",
              "       width=\"24px\">\n",
              "    <path d=\"M0 0h24v24H0V0z\" fill=\"none\"/>\n",
              "    <path d=\"M18.56 5.44l.94 2.06.94-2.06 2.06-.94-2.06-.94-.94-2.06-.94 2.06-2.06.94zm-11 1L8.5 8.5l.94-2.06 2.06-.94-2.06-.94L8.5 2.5l-.94 2.06-2.06.94zm10 10l.94 2.06.94-2.06 2.06-.94-2.06-.94-.94-2.06-.94 2.06-2.06.94z\"/><path d=\"M17.41 7.96l-1.37-1.37c-.4-.4-.92-.59-1.43-.59-.52 0-1.04.2-1.43.59L10.3 9.45l-7.72 7.72c-.78.78-.78 2.05 0 2.83L4 21.41c.39.39.9.59 1.41.59.51 0 1.02-.2 1.41-.59l7.78-7.78 2.81-2.81c.8-.78.8-2.07 0-2.86zM5.41 20L4 18.59l7.72-7.72 1.47 1.35L5.41 20z\"/>\n",
              "  </svg>\n",
              "      </button>\n",
              "      \n",
              "  <style>\n",
              "    .colab-df-container {\n",
              "      display:flex;\n",
              "      flex-wrap:wrap;\n",
              "      gap: 12px;\n",
              "    }\n",
              "\n",
              "    .colab-df-convert {\n",
              "      background-color: #E8F0FE;\n",
              "      border: none;\n",
              "      border-radius: 50%;\n",
              "      cursor: pointer;\n",
              "      display: none;\n",
              "      fill: #1967D2;\n",
              "      height: 32px;\n",
              "      padding: 0 0 0 0;\n",
              "      width: 32px;\n",
              "    }\n",
              "\n",
              "    .colab-df-convert:hover {\n",
              "      background-color: #E2EBFA;\n",
              "      box-shadow: 0px 1px 2px rgba(60, 64, 67, 0.3), 0px 1px 3px 1px rgba(60, 64, 67, 0.15);\n",
              "      fill: #174EA6;\n",
              "    }\n",
              "\n",
              "    [theme=dark] .colab-df-convert {\n",
              "      background-color: #3B4455;\n",
              "      fill: #D2E3FC;\n",
              "    }\n",
              "\n",
              "    [theme=dark] .colab-df-convert:hover {\n",
              "      background-color: #434B5C;\n",
              "      box-shadow: 0px 1px 3px 1px rgba(0, 0, 0, 0.15);\n",
              "      filter: drop-shadow(0px 1px 2px rgba(0, 0, 0, 0.3));\n",
              "      fill: #FFFFFF;\n",
              "    }\n",
              "  </style>\n",
              "\n",
              "      <script>\n",
              "        const buttonEl =\n",
              "          document.querySelector('#df-b86ae40a-0d36-4a23-8372-0fcf44049296 button.colab-df-convert');\n",
              "        buttonEl.style.display =\n",
              "          google.colab.kernel.accessAllowed ? 'block' : 'none';\n",
              "\n",
              "        async function convertToInteractive(key) {\n",
              "          const element = document.querySelector('#df-b86ae40a-0d36-4a23-8372-0fcf44049296');\n",
              "          const dataTable =\n",
              "            await google.colab.kernel.invokeFunction('convertToInteractive',\n",
              "                                                     [key], {});\n",
              "          if (!dataTable) return;\n",
              "\n",
              "          const docLinkHtml = 'Like what you see? Visit the ' +\n",
              "            '<a target=\"_blank\" href=https://colab.research.google.com/notebooks/data_table.ipynb>data table notebook</a>'\n",
              "            + ' to learn more about interactive tables.';\n",
              "          element.innerHTML = '';\n",
              "          dataTable['output_type'] = 'display_data';\n",
              "          await google.colab.output.renderOutput(dataTable, element);\n",
              "          const docLink = document.createElement('div');\n",
              "          docLink.innerHTML = docLinkHtml;\n",
              "          element.appendChild(docLink);\n",
              "        }\n",
              "      </script>\n",
              "    </div>\n",
              "  </div>\n",
              "  "
            ],
            "text/plain": [
              "           Date        Close\n",
              "0    2019-01-02  1539.130005\n",
              "1    2019-01-03  1500.280029\n",
              "2    2019-01-04  1575.390015\n",
              "3    2019-01-07  1629.510010\n",
              "4    2019-01-08  1656.579956\n",
              "..          ...          ...\n",
              "246  2019-12-23  1793.000000\n",
              "247  2019-12-24  1789.209961\n",
              "248  2019-12-26  1868.770020\n",
              "249  2019-12-27  1869.800049\n",
              "250  2019-12-30  1846.890015\n",
              "\n",
              "[251 rows x 2 columns]"
            ]
          },
          "metadata": {},
          "execution_count": 13
        }
      ],
      "source": [
        "# Read stock prices data\n",
        "stock_price_df = pd.read_csv('/content/drive/MyDrive/A K61 NCKH/Crawl dữ liệu đầu vào /Amazon.csv')\n",
        "stock_price_df"
      ]
    },
    {
      "cell_type": "code",
      "execution_count": null,
      "metadata": {
        "pycharm": {
          "name": "#%%\n"
        },
        "id": "NmS7agyWma6_"
      },
      "outputs": [],
      "source": [
        "import re\n",
        "\n",
        "def clean_up_stock(text):\n",
        "    text = re.sub(r'[^\\w]', ' ', text)\n",
        "    return text"
      ]
    },
    {
      "cell_type": "code",
      "execution_count": null,
      "metadata": {
        "pycharm": {
          "name": "#%%\n"
        },
        "colab": {
          "base_uri": "https://localhost:8080/",
          "height": 423
        },
        "id": "KrGRGfxema7A",
        "outputId": "2da6fcbd-b10e-484f-e3ba-0cdfcffc3d55"
      },
      "outputs": [
        {
          "output_type": "execute_result",
          "data": {
            "text/html": [
              "\n",
              "  <div id=\"df-83298c3c-d0a4-4792-a300-c999a013bfd7\">\n",
              "    <div class=\"colab-df-container\">\n",
              "      <div>\n",
              "<style scoped>\n",
              "    .dataframe tbody tr th:only-of-type {\n",
              "        vertical-align: middle;\n",
              "    }\n",
              "\n",
              "    .dataframe tbody tr th {\n",
              "        vertical-align: top;\n",
              "    }\n",
              "\n",
              "    .dataframe thead th {\n",
              "        text-align: right;\n",
              "    }\n",
              "</style>\n",
              "<table border=\"1\" class=\"dataframe\">\n",
              "  <thead>\n",
              "    <tr style=\"text-align: right;\">\n",
              "      <th></th>\n",
              "      <th>Date</th>\n",
              "      <th>Close</th>\n",
              "    </tr>\n",
              "  </thead>\n",
              "  <tbody>\n",
              "    <tr>\n",
              "      <th>0</th>\n",
              "      <td>2019-01-02</td>\n",
              "      <td>1539.130005</td>\n",
              "    </tr>\n",
              "    <tr>\n",
              "      <th>1</th>\n",
              "      <td>2019-01-03</td>\n",
              "      <td>1500.280029</td>\n",
              "    </tr>\n",
              "    <tr>\n",
              "      <th>2</th>\n",
              "      <td>2019-01-04</td>\n",
              "      <td>1575.390015</td>\n",
              "    </tr>\n",
              "    <tr>\n",
              "      <th>3</th>\n",
              "      <td>2019-01-07</td>\n",
              "      <td>1629.510010</td>\n",
              "    </tr>\n",
              "    <tr>\n",
              "      <th>4</th>\n",
              "      <td>2019-01-08</td>\n",
              "      <td>1656.579956</td>\n",
              "    </tr>\n",
              "    <tr>\n",
              "      <th>...</th>\n",
              "      <td>...</td>\n",
              "      <td>...</td>\n",
              "    </tr>\n",
              "    <tr>\n",
              "      <th>246</th>\n",
              "      <td>2019-12-23</td>\n",
              "      <td>1793.000000</td>\n",
              "    </tr>\n",
              "    <tr>\n",
              "      <th>247</th>\n",
              "      <td>2019-12-24</td>\n",
              "      <td>1789.209961</td>\n",
              "    </tr>\n",
              "    <tr>\n",
              "      <th>248</th>\n",
              "      <td>2019-12-26</td>\n",
              "      <td>1868.770020</td>\n",
              "    </tr>\n",
              "    <tr>\n",
              "      <th>249</th>\n",
              "      <td>2019-12-27</td>\n",
              "      <td>1869.800049</td>\n",
              "    </tr>\n",
              "    <tr>\n",
              "      <th>250</th>\n",
              "      <td>2019-12-30</td>\n",
              "      <td>1846.890015</td>\n",
              "    </tr>\n",
              "  </tbody>\n",
              "</table>\n",
              "<p>251 rows × 2 columns</p>\n",
              "</div>\n",
              "      <button class=\"colab-df-convert\" onclick=\"convertToInteractive('df-83298c3c-d0a4-4792-a300-c999a013bfd7')\"\n",
              "              title=\"Convert this dataframe to an interactive table.\"\n",
              "              style=\"display:none;\">\n",
              "        \n",
              "  <svg xmlns=\"http://www.w3.org/2000/svg\" height=\"24px\"viewBox=\"0 0 24 24\"\n",
              "       width=\"24px\">\n",
              "    <path d=\"M0 0h24v24H0V0z\" fill=\"none\"/>\n",
              "    <path d=\"M18.56 5.44l.94 2.06.94-2.06 2.06-.94-2.06-.94-.94-2.06-.94 2.06-2.06.94zm-11 1L8.5 8.5l.94-2.06 2.06-.94-2.06-.94L8.5 2.5l-.94 2.06-2.06.94zm10 10l.94 2.06.94-2.06 2.06-.94-2.06-.94-.94-2.06-.94 2.06-2.06.94z\"/><path d=\"M17.41 7.96l-1.37-1.37c-.4-.4-.92-.59-1.43-.59-.52 0-1.04.2-1.43.59L10.3 9.45l-7.72 7.72c-.78.78-.78 2.05 0 2.83L4 21.41c.39.39.9.59 1.41.59.51 0 1.02-.2 1.41-.59l7.78-7.78 2.81-2.81c.8-.78.8-2.07 0-2.86zM5.41 20L4 18.59l7.72-7.72 1.47 1.35L5.41 20z\"/>\n",
              "  </svg>\n",
              "      </button>\n",
              "      \n",
              "  <style>\n",
              "    .colab-df-container {\n",
              "      display:flex;\n",
              "      flex-wrap:wrap;\n",
              "      gap: 12px;\n",
              "    }\n",
              "\n",
              "    .colab-df-convert {\n",
              "      background-color: #E8F0FE;\n",
              "      border: none;\n",
              "      border-radius: 50%;\n",
              "      cursor: pointer;\n",
              "      display: none;\n",
              "      fill: #1967D2;\n",
              "      height: 32px;\n",
              "      padding: 0 0 0 0;\n",
              "      width: 32px;\n",
              "    }\n",
              "\n",
              "    .colab-df-convert:hover {\n",
              "      background-color: #E2EBFA;\n",
              "      box-shadow: 0px 1px 2px rgba(60, 64, 67, 0.3), 0px 1px 3px 1px rgba(60, 64, 67, 0.15);\n",
              "      fill: #174EA6;\n",
              "    }\n",
              "\n",
              "    [theme=dark] .colab-df-convert {\n",
              "      background-color: #3B4455;\n",
              "      fill: #D2E3FC;\n",
              "    }\n",
              "\n",
              "    [theme=dark] .colab-df-convert:hover {\n",
              "      background-color: #434B5C;\n",
              "      box-shadow: 0px 1px 3px 1px rgba(0, 0, 0, 0.15);\n",
              "      filter: drop-shadow(0px 1px 2px rgba(0, 0, 0, 0.3));\n",
              "      fill: #FFFFFF;\n",
              "    }\n",
              "  </style>\n",
              "\n",
              "      <script>\n",
              "        const buttonEl =\n",
              "          document.querySelector('#df-83298c3c-d0a4-4792-a300-c999a013bfd7 button.colab-df-convert');\n",
              "        buttonEl.style.display =\n",
              "          google.colab.kernel.accessAllowed ? 'block' : 'none';\n",
              "\n",
              "        async function convertToInteractive(key) {\n",
              "          const element = document.querySelector('#df-83298c3c-d0a4-4792-a300-c999a013bfd7');\n",
              "          const dataTable =\n",
              "            await google.colab.kernel.invokeFunction('convertToInteractive',\n",
              "                                                     [key], {});\n",
              "          if (!dataTable) return;\n",
              "\n",
              "          const docLinkHtml = 'Like what you see? Visit the ' +\n",
              "            '<a target=\"_blank\" href=https://colab.research.google.com/notebooks/data_table.ipynb>data table notebook</a>'\n",
              "            + ' to learn more about interactive tables.';\n",
              "          element.innerHTML = '';\n",
              "          dataTable['output_type'] = 'display_data';\n",
              "          await google.colab.output.renderOutput(dataTable, element);\n",
              "          const docLink = document.createElement('div');\n",
              "          docLink.innerHTML = docLinkHtml;\n",
              "          element.appendChild(docLink);\n",
              "        }\n",
              "      </script>\n",
              "    </div>\n",
              "  </div>\n",
              "  "
            ],
            "text/plain": [
              "           Date        Close\n",
              "0    2019-01-02  1539.130005\n",
              "1    2019-01-03  1500.280029\n",
              "2    2019-01-04  1575.390015\n",
              "3    2019-01-07  1629.510010\n",
              "4    2019-01-08  1656.579956\n",
              "..          ...          ...\n",
              "246  2019-12-23  1793.000000\n",
              "247  2019-12-24  1789.209961\n",
              "248  2019-12-26  1868.770020\n",
              "249  2019-12-27  1869.800049\n",
              "250  2019-12-30  1846.890015\n",
              "\n",
              "[251 rows x 2 columns]"
            ]
          },
          "metadata": {},
          "execution_count": 15
        }
      ],
      "source": [
        "col = ['Close']\n",
        "for i in col:\n",
        "    stock_price_df[i] = stock_price_df[i].replace({r'\\$':''}, regex = True)\n",
        "    stock_price_df[i] = stock_price_df[i].astype(float)\n",
        "\n",
        "stock_price_df"
      ]
    },
    {
      "cell_type": "code",
      "execution_count": null,
      "metadata": {
        "pycharm": {
          "name": "#%%\n"
        },
        "colab": {
          "base_uri": "https://localhost:8080/"
        },
        "id": "2fpcqtllma7B",
        "outputId": "fada4324-1b2e-4ea8-8172-962cda6f9bdb"
      },
      "outputs": [
        {
          "output_type": "execute_result",
          "data": {
            "text/plain": [
              "0      1539.130005\n",
              "1      1500.280029\n",
              "2      1575.390015\n",
              "3      1629.510010\n",
              "4      1656.579956\n",
              "          ...     \n",
              "246    1793.000000\n",
              "247    1789.209961\n",
              "248    1868.770020\n",
              "249    1869.800049\n",
              "250    1846.890015\n",
              "Name: Close, Length: 251, dtype: float64"
            ]
          },
          "metadata": {},
          "execution_count": 16
        }
      ],
      "source": [
        "df = stock_price_df.reset_index()['Close']\n",
        "df = df.iloc[::1].reset_index()['Close']\n",
        "df"
      ]
    },
    {
      "cell_type": "code",
      "execution_count": null,
      "metadata": {
        "pycharm": {
          "name": "#%%\n"
        },
        "colab": {
          "base_uri": "https://localhost:8080/",
          "height": 282
        },
        "id": "WXC3vvt3ma7B",
        "outputId": "0ef53654-6893-4d9c-871c-76c0a0c45472"
      },
      "outputs": [
        {
          "output_type": "execute_result",
          "data": {
            "text/plain": [
              "[<matplotlib.lines.Line2D at 0x7f5e614f6f10>]"
            ]
          },
          "metadata": {},
          "execution_count": 17
        },
        {
          "output_type": "display_data",
          "data": {
            "image/png": "[encoded data removed]",
            "text/plain": [
              "<Figure size 432x288 with 1 Axes>"
            ]
          },
          "metadata": {
            "needs_background": "light"
          }
        }
      ],
      "source": [
        "plt.plot(df)"
      ]
    },
    {
      "cell_type": "markdown",
      "metadata": {
        "pycharm": {
          "name": "#%% md\n"
        },
        "id": "JIZTDN1yma7C"
      },
      "source": [
        "# MinMax Scaler"
      ]
    },
    {
      "cell_type": "code",
      "execution_count": null,
      "metadata": {
        "pycharm": {
          "name": "#%%\n"
        },
        "colab": {
          "base_uri": "https://localhost:8080/"
        },
        "id": "QiOhNDYsma7D",
        "outputId": "088f9213-be97-49ec-c12d-d5a6c465aa4c"
      },
      "outputs": [
        {
          "output_type": "stream",
          "name": "stdout",
          "text": [
            "[[0.07460963]\n",
            " [0.        ]\n",
            " [0.14424534]\n",
            " [0.24818035]\n",
            " [0.30016696]\n",
            " [0.30562122]\n",
            " [0.29947563]\n",
            " [0.26940147]\n",
            " [0.22455866]\n",
            " [0.33469694]\n",
            " [0.35240348]\n",
            " [0.37053246]\n",
            " [0.37625538]\n",
            " [0.25328883]\n",
            " [0.26836435]\n",
            " [0.2969984 ]\n",
            " [0.32703411]\n",
            " [0.26427377]\n",
            " [0.17975453]\n",
            " [0.32676545]\n",
            " [0.41952328]\n",
            " [0.2418812 ]\n",
            " [0.25547817]\n",
            " [0.30444977]\n",
            " [0.26882524]\n",
            " [0.21910463]\n",
            " [0.16888469]\n",
            " [0.17422361]\n",
            " [0.26450422]\n",
            " [0.2683259 ]\n",
            " [0.23500606]\n",
            " [0.20677523]\n",
            " [0.24447377]\n",
            " [0.23394971]\n",
            " [0.22884124]\n",
            " [0.25211738]\n",
            " [0.25488272]\n",
            " [0.26141231]\n",
            " [0.27041913]\n",
            " [0.26799934]\n",
            " [0.3292619 ]\n",
            " [0.37619794]\n",
            " [0.36901546]\n",
            " [0.32392298]\n",
            " [0.24134342]\n",
            " [0.23145326]\n",
            " [0.32713022]\n",
            " [0.33189291]\n",
            " [0.36590433]\n",
            " [0.35708927]\n",
            " [0.40728999]\n",
            " [0.46450042]\n",
            " [0.50233329]\n",
            " [0.57035588]\n",
            " [0.61258667]\n",
            " [0.5079411 ]\n",
            " [0.5261662 ]\n",
            " [0.54441052]\n",
            " [0.50972699]\n",
            " [0.52455308]\n",
            " [0.53862993]\n",
            " [0.60284983]\n",
            " [0.60244661]\n",
            " [0.61535201]\n",
            " [0.61181844]\n",
            " [0.6471933 ]\n",
            " [0.67135254]\n",
            " [0.64442773]\n",
            " [0.66649374]\n",
            " [0.66023303]\n",
            " [0.65829359]\n",
            " [0.66176949]\n",
            " [0.69666424]\n",
            " [0.70008247]\n",
            " [0.69407144]\n",
            " [0.74327372]\n",
            " [0.81329343]\n",
            " [0.77100498]\n",
            " [0.7719652 ]\n",
            " [0.86487682]\n",
            " [0.84144736]\n",
            " [0.81857468]\n",
            " [0.78976786]\n",
            " [0.76921885]\n",
            " [0.88759572]\n",
            " [0.86472327]\n",
            " [0.80797373]\n",
            " [0.8017707 ]\n",
            " [0.76739451]\n",
            " [0.74840118]\n",
            " [0.61915471]\n",
            " [0.65264733]\n",
            " [0.7122391 ]\n",
            " [0.78218192]\n",
            " [0.70811008]\n",
            " [0.68884786]\n",
            " [0.68606329]\n",
            " [0.69021154]\n",
            " [0.60532729]\n",
            " [0.62030694]\n",
            " [0.64556096]\n",
            " [0.61245211]\n",
            " [0.60694041]\n",
            " [0.52772164]\n",
            " [0.36951456]\n",
            " [0.44032196]\n",
            " [0.45749071]\n",
            " [0.4879491 ]\n",
            " [0.58333818]\n",
            " [0.69203588]\n",
            " [0.69793157]\n",
            " [0.68183815]\n",
            " [0.71060676]\n",
            " [0.70939687]\n",
            " [0.74081548]\n",
            " [0.77027519]\n",
            " [0.78452505]\n",
            " [0.80257714]\n",
            " [0.78934541]\n",
            " [0.79433855]\n",
            " [0.72591273]\n",
            " [0.76347671]\n",
            " [0.77586378]\n",
            " [0.75541089]\n",
            " [0.81025896]\n",
            " [0.8335351 ]\n",
            " [0.84254192]\n",
            " [0.85005097]\n",
            " [0.86812228]\n",
            " [0.93722044]\n",
            " [0.99312486]\n",
            " [0.96174445]\n",
            " [0.98081467]\n",
            " [1.        ]\n",
            " [0.97870222]\n",
            " [0.9443837 ]\n",
            " [0.91724766]\n",
            " [0.89155197]\n",
            " [0.93209274]\n",
            " [0.94910794]\n",
            " [0.96124535]\n",
            " [0.90941206]\n",
            " [0.85031986]\n",
            " [0.79155375]\n",
            " [0.76482117]\n",
            " [0.70384672]\n",
            " [0.68183815]\n",
            " [0.62023004]\n",
            " [0.50863244]\n",
            " [0.55222667]\n",
            " [0.56292373]\n",
            " [0.63876248]\n",
            " [0.59015565]\n",
            " [0.54663831]\n",
            " [0.6223425 ]\n",
            " [0.50446496]\n",
            " [0.52973822]\n",
            " [0.56132961]\n",
            " [0.60655641]\n",
            " [0.57824893]\n",
            " [0.62080627]\n",
            " [0.58454807]\n",
            " [0.47884616]\n",
            " [0.51581492]\n",
            " [0.50229484]\n",
            " [0.50694243]\n",
            " [0.54948055]\n",
            " [0.53006478]\n",
            " [0.5560868 ]\n",
            " [0.57678936]\n",
            " [0.65379956]\n",
            " [0.63995315]\n",
            " [0.6358049 ]\n",
            " [0.61506413]\n",
            " [0.61974993]\n",
            " [0.65923459]\n",
            " [0.65114932]\n",
            " [0.59065499]\n",
            " [0.61890504]\n",
            " [0.60912976]\n",
            " [0.61688847]\n",
            " [0.5643833 ]\n",
            " [0.5473681 ]\n",
            " [0.4634633 ]\n",
            " [0.5147778 ]\n",
            " [0.46006406]\n",
            " [0.43242868]\n",
            " [0.4525168 ]\n",
            " [0.45201746]\n",
            " [0.40896078]\n",
            " [0.43045079]\n",
            " [0.45969928]\n",
            " [0.44627532]\n",
            " [0.39413492]\n",
            " [0.42578398]\n",
            " [0.42246163]\n",
            " [0.4448542 ]\n",
            " [0.45351547]\n",
            " [0.51295346]\n",
            " [0.53225412]\n",
            " [0.55155456]\n",
            " [0.49399858]\n",
            " [0.54805943]\n",
            " [0.50978466]\n",
            " [0.50294796]\n",
            " [0.5386876 ]\n",
            " [0.50133461]\n",
            " [0.53158178]\n",
            " [0.50398485]\n",
            " [0.53717037]\n",
            " [0.53077534]\n",
            " [0.55915948]\n",
            " [0.58454807]\n",
            " [0.57888259]\n",
            " [0.5674752 ]\n",
            " [0.55293723]\n",
            " [0.54848187]\n",
            " [0.52115384]\n",
            " [0.53334868]\n",
            " [0.48554853]\n",
            " [0.48840999]\n",
            " [0.45939194]\n",
            " [0.48443475]\n",
            " [0.48493409]\n",
            " [0.47099157]\n",
            " [0.45021211]\n",
            " [0.47135634]\n",
            " [0.52535952]\n",
            " [0.56972198]\n",
            " [0.61114633]\n",
            " [0.57713515]\n",
            " [0.54026227]\n",
            " [0.51790815]\n",
            " [0.50010549]\n",
            " [0.46129318]\n",
            " [0.48264862]\n",
            " [0.47863494]\n",
            " [0.45885416]\n",
            " [0.4771177 ]\n",
            " [0.49941416]\n",
            " [0.50058561]\n",
            " [0.51646781]\n",
            " [0.55766171]\n",
            " [0.54492908]\n",
            " [0.56077283]\n",
            " [0.54967255]\n",
            " [0.5621555 ]\n",
            " [0.55487691]\n",
            " [0.70766841]\n",
            " [0.70964654]\n",
            " [0.66564885]]\n"
          ]
        }
      ],
      "source": [
        "from sklearn.preprocessing import MinMaxScaler\n",
        "scaler = MinMaxScaler(feature_range=(0,1))\n",
        "df = scaler.fit_transform(np.array(df).reshape(-1,1))\n",
        "print(df)"
      ]
    },
    {
      "cell_type": "markdown",
      "metadata": {
        "pycharm": {
          "name": "#%% md\n"
        },
        "id": "5ERswzihma7E"
      },
      "source": [
        "# Splitting Data to train test"
      ]
    },
    {
      "cell_type": "code",
      "execution_count": null,
      "metadata": {
        "pycharm": {
          "name": "#%%\n"
        },
        "id": "NhdGbkNDma7E"
      },
      "outputs": [],
      "source": [
        "training_size = int(len(df) * 0.8)\n",
        "test_size = len(df) - training_size\n",
        "train_data, test_data = df[0:training_size,:], df[training_size:len(df),:1]"
      ]
    },
    {
      "cell_type": "code",
      "execution_count": null,
      "metadata": {
        "pycharm": {
          "name": "#%%\n"
        },
        "id": "SStLD-jCma7F"
      },
      "outputs": [],
      "source": [
        "# Convert an array of values into a dataset matrix\n",
        "def create_dataset(dataset, time_step=1):\n",
        "    dataX, dataY = [], []\n",
        "    for i in range(len(dataset)-time_step-1):\n",
        "        a = dataset[i:(i+time_step), 0]   ###i=0, 0,1,2,3-----99   100\n",
        "        dataX.append(a)\n",
        "        dataY.append(dataset[i + time_step, 0])\n",
        "    return np.array(dataX), np.array(dataY)"
      ]
    },
    {
      "cell_type": "code",
      "execution_count": null,
      "metadata": {
        "pycharm": {
          "name": "#%%\n"
        },
        "id": "9_0xqRComa7G"
      },
      "outputs": [],
      "source": [
        "time_step = 10\n",
        "feature = 1\n",
        "X_train, y_train = create_dataset(train_data, time_step)\n",
        "X_test, y_test = create_dataset(test_data, time_step)\n"
      ]
    },
    {
      "cell_type": "code",
      "execution_count": null,
      "metadata": {
        "pycharm": {
          "name": "#%%\n"
        },
        "id": "TSDULhAYma7G"
      },
      "outputs": [],
      "source": [
        "# Reshape input to be [samples, time steps, features] which is required for LSTM\n",
        "X_train =X_train.reshape(X_train.shape[0],X_train.shape[1] , feature)\n",
        "X_test = X_test.reshape(X_test.shape[0],X_test.shape[1] , feature)"
      ]
    },
    {
      "cell_type": "code",
      "execution_count": null,
      "metadata": {
        "pycharm": {
          "name": "#%%\n"
        },
        "scrolled": false,
        "id": "54uXjs03ma7H"
      },
      "outputs": [],
      "source": [
        "### Create the Stacked LSTM model\n",
        "\n",
        "from tensorflow.python.keras.layers import Dense, LSTM\n",
        "from tensorflow.python.keras.models import Sequential"
      ]
    },
    {
      "cell_type": "code",
      "execution_count": null,
      "metadata": {
        "pycharm": {
          "name": "#%%\n"
        },
        "id": "y4o3Vokpma7H"
      },
      "outputs": [],
      "source": [
        "model= Sequential()\n",
        "model.add(LSTM(50,return_sequences=True,input_shape=(time_step, feature)))\n",
        "model.add(LSTM(50,return_sequences=True))\n",
        "model.add(LSTM(50))\n",
        "model.add(Dense(1))\n",
        "model.compile(loss='mean_squared_error',optimizer='adam')"
      ]
    },
    {
      "cell_type": "code",
      "execution_count": null,
      "metadata": {
        "pycharm": {
          "name": "#%%\n"
        },
        "colab": {
          "base_uri": "https://localhost:8080/"
        },
        "id": "U1PTC3-Rma7H",
        "outputId": "87787818-c07f-455b-ae03-f499008ec1b7"
      },
      "outputs": [
        {
          "output_type": "stream",
          "name": "stdout",
          "text": [
            "Model: \"sequential\"\n",
            "_________________________________________________________________\n",
            "Layer (type)                 Output Shape              Param #   \n",
            "=================================================================\n",
            "lstm (LSTM)                  (None, 10, 50)            10400     \n",
            "_________________________________________________________________\n",
            "lstm_1 (LSTM)                (None, 10, 50)            20200     \n",
            "_________________________________________________________________\n",
            "lstm_2 (LSTM)                (None, 50)                20200     \n",
            "_________________________________________________________________\n",
            "dense (Dense)                (None, 1)                 51        \n",
            "=================================================================\n",
            "Total params: 50,851\n",
            "Trainable params: 50,851\n",
            "Non-trainable params: 0\n",
            "_________________________________________________________________\n"
          ]
        }
      ],
      "source": [
        "model.summary()"
      ]
    },
    {
      "cell_type": "code",
      "execution_count": null,
      "metadata": {
        "pycharm": {
          "name": "#%%\n"
        },
        "colab": {
          "base_uri": "https://localhost:8080/"
        },
        "id": "_iW-qE5Uma7I",
        "outputId": "40b51ffc-67df-4003-be14-2d64df5dd7cb"
      },
      "outputs": [
        {
          "output_type": "stream",
          "name": "stdout",
          "text": [
            "Epoch 1/100\n",
            "3/3 [==============================] - 9s 473ms/step - loss: 0.3320 - val_loss: 0.1854\n",
            "Epoch 2/100\n",
            "3/3 [==============================] - 0s 57ms/step - loss: 0.2115 - val_loss: 0.0911\n",
            "Epoch 3/100\n",
            "3/3 [==============================] - 0s 57ms/step - loss: 0.0912 - val_loss: 0.0127\n",
            "Epoch 4/100\n",
            "3/3 [==============================] - 0s 63ms/step - loss: 0.0198 - val_loss: 0.0347\n",
            "Epoch 5/100\n",
            "3/3 [==============================] - 0s 54ms/step - loss: 0.0509 - val_loss: 0.0351\n",
            "Epoch 6/100\n",
            "3/3 [==============================] - 0s 53ms/step - loss: 0.0286 - val_loss: 0.0055\n",
            "Epoch 7/100\n",
            "3/3 [==============================] - 0s 54ms/step - loss: 0.0146 - val_loss: 0.0074\n",
            "Epoch 8/100\n",
            "3/3 [==============================] - 0s 54ms/step - loss: 0.0222 - val_loss: 0.0107\n",
            "Epoch 9/100\n",
            "3/3 [==============================] - 0s 53ms/step - loss: 0.0242 - val_loss: 0.0072\n",
            "Epoch 10/100\n",
            "3/3 [==============================] - 0s 56ms/step - loss: 0.0173 - val_loss: 0.0040\n",
            "Epoch 11/100\n",
            "3/3 [==============================] - 0s 58ms/step - loss: 0.0134 - val_loss: 0.0077\n",
            "Epoch 12/100\n",
            "3/3 [==============================] - 0s 54ms/step - loss: 0.0148 - val_loss: 0.0101\n",
            "Epoch 13/100\n",
            "3/3 [==============================] - 0s 58ms/step - loss: 0.0152 - val_loss: 0.0069\n",
            "Epoch 14/100\n",
            "3/3 [==============================] - 0s 55ms/step - loss: 0.0129 - val_loss: 0.0042\n",
            "Epoch 15/100\n",
            "3/3 [==============================] - 0s 55ms/step - loss: 0.0121 - val_loss: 0.0041\n",
            "Epoch 16/100\n",
            "3/3 [==============================] - 0s 52ms/step - loss: 0.0128 - val_loss: 0.0041\n",
            "Epoch 17/100\n",
            "3/3 [==============================] - 0s 61ms/step - loss: 0.0123 - val_loss: 0.0041\n",
            "Epoch 18/100\n",
            "3/3 [==============================] - 0s 52ms/step - loss: 0.0115 - val_loss: 0.0047\n",
            "Epoch 19/100\n",
            "3/3 [==============================] - 0s 56ms/step - loss: 0.0115 - val_loss: 0.0053\n",
            "Epoch 20/100\n",
            "3/3 [==============================] - 0s 52ms/step - loss: 0.0117 - val_loss: 0.0050\n",
            "Epoch 21/100\n",
            "3/3 [==============================] - 0s 53ms/step - loss: 0.0113 - val_loss: 0.0043\n",
            "Epoch 22/100\n",
            "3/3 [==============================] - 0s 55ms/step - loss: 0.0110 - val_loss: 0.0042\n",
            "Epoch 23/100\n",
            "3/3 [==============================] - 0s 52ms/step - loss: 0.0110 - val_loss: 0.0042\n",
            "Epoch 24/100\n",
            "3/3 [==============================] - 0s 52ms/step - loss: 0.0109 - val_loss: 0.0042\n",
            "Epoch 25/100\n",
            "3/3 [==============================] - 0s 56ms/step - loss: 0.0107 - val_loss: 0.0044\n",
            "Epoch 26/100\n",
            "3/3 [==============================] - 0s 54ms/step - loss: 0.0107 - val_loss: 0.0045\n",
            "Epoch 27/100\n",
            "3/3 [==============================] - 0s 54ms/step - loss: 0.0106 - val_loss: 0.0043\n",
            "Epoch 28/100\n",
            "3/3 [==============================] - 0s 54ms/step - loss: 0.0105 - val_loss: 0.0042\n",
            "Epoch 29/100\n",
            "3/3 [==============================] - 0s 52ms/step - loss: 0.0105 - val_loss: 0.0042\n",
            "Epoch 30/100\n",
            "3/3 [==============================] - 0s 59ms/step - loss: 0.0105 - val_loss: 0.0043\n",
            "Epoch 31/100\n",
            "3/3 [==============================] - 0s 60ms/step - loss: 0.0104 - val_loss: 0.0043\n",
            "Epoch 32/100\n",
            "3/3 [==============================] - 0s 53ms/step - loss: 0.0104 - val_loss: 0.0043\n",
            "Epoch 33/100\n",
            "3/3 [==============================] - 0s 53ms/step - loss: 0.0103 - val_loss: 0.0043\n",
            "Epoch 34/100\n",
            "3/3 [==============================] - 0s 53ms/step - loss: 0.0104 - val_loss: 0.0043\n",
            "Epoch 35/100\n",
            "3/3 [==============================] - 0s 53ms/step - loss: 0.0103 - val_loss: 0.0043\n",
            "Epoch 36/100\n",
            "3/3 [==============================] - 0s 57ms/step - loss: 0.0104 - val_loss: 0.0044\n",
            "Epoch 37/100\n",
            "3/3 [==============================] - 0s 59ms/step - loss: 0.0103 - val_loss: 0.0043\n",
            "Epoch 38/100\n",
            "3/3 [==============================] - 0s 54ms/step - loss: 0.0102 - val_loss: 0.0043\n",
            "Epoch 39/100\n",
            "3/3 [==============================] - 0s 56ms/step - loss: 0.0102 - val_loss: 0.0043\n",
            "Epoch 40/100\n",
            "3/3 [==============================] - 0s 54ms/step - loss: 0.0102 - val_loss: 0.0043\n",
            "Epoch 41/100\n",
            "3/3 [==============================] - 0s 54ms/step - loss: 0.0101 - val_loss: 0.0043\n",
            "Epoch 42/100\n",
            "3/3 [==============================] - 0s 54ms/step - loss: 0.0102 - val_loss: 0.0043\n",
            "Epoch 43/100\n",
            "3/3 [==============================] - 0s 58ms/step - loss: 0.0101 - val_loss: 0.0043\n",
            "Epoch 44/100\n",
            "3/3 [==============================] - 0s 55ms/step - loss: 0.0101 - val_loss: 0.0042\n",
            "Epoch 45/100\n",
            "3/3 [==============================] - 0s 53ms/step - loss: 0.0101 - val_loss: 0.0042\n",
            "Epoch 46/100\n",
            "3/3 [==============================] - 0s 55ms/step - loss: 0.0101 - val_loss: 0.0042\n",
            "Epoch 47/100\n",
            "3/3 [==============================] - 0s 54ms/step - loss: 0.0101 - val_loss: 0.0042\n",
            "Epoch 48/100\n",
            "3/3 [==============================] - 0s 54ms/step - loss: 0.0100 - val_loss: 0.0042\n",
            "Epoch 49/100\n",
            "3/3 [==============================] - 0s 54ms/step - loss: 0.0100 - val_loss: 0.0042\n",
            "Epoch 50/100\n",
            "3/3 [==============================] - 0s 55ms/step - loss: 0.0099 - val_loss: 0.0042\n",
            "Epoch 51/100\n",
            "3/3 [==============================] - 0s 53ms/step - loss: 0.0099 - val_loss: 0.0042\n",
            "Epoch 52/100\n",
            "3/3 [==============================] - 0s 58ms/step - loss: 0.0099 - val_loss: 0.0042\n",
            "Epoch 53/100\n",
            "3/3 [==============================] - 0s 63ms/step - loss: 0.0099 - val_loss: 0.0042\n",
            "Epoch 54/100\n",
            "3/3 [==============================] - 0s 54ms/step - loss: 0.0099 - val_loss: 0.0042\n",
            "Epoch 55/100\n",
            "3/3 [==============================] - 0s 55ms/step - loss: 0.0098 - val_loss: 0.0042\n",
            "Epoch 56/100\n",
            "3/3 [==============================] - 0s 62ms/step - loss: 0.0098 - val_loss: 0.0042\n",
            "Epoch 57/100\n",
            "3/3 [==============================] - 0s 54ms/step - loss: 0.0098 - val_loss: 0.0042\n",
            "Epoch 58/100\n",
            "3/3 [==============================] - 0s 52ms/step - loss: 0.0097 - val_loss: 0.0042\n",
            "Epoch 59/100\n",
            "3/3 [==============================] - 0s 54ms/step - loss: 0.0097 - val_loss: 0.0042\n",
            "Epoch 60/100\n",
            "3/3 [==============================] - 0s 55ms/step - loss: 0.0097 - val_loss: 0.0041\n",
            "Epoch 61/100\n",
            "3/3 [==============================] - 0s 54ms/step - loss: 0.0096 - val_loss: 0.0042\n",
            "Epoch 62/100\n",
            "3/3 [==============================] - 0s 53ms/step - loss: 0.0096 - val_loss: 0.0041\n",
            "Epoch 63/100\n",
            "3/3 [==============================] - 0s 53ms/step - loss: 0.0096 - val_loss: 0.0041\n",
            "Epoch 64/100\n",
            "3/3 [==============================] - 0s 54ms/step - loss: 0.0096 - val_loss: 0.0041\n",
            "Epoch 65/100\n",
            "3/3 [==============================] - 0s 53ms/step - loss: 0.0095 - val_loss: 0.0041\n",
            "Epoch 66/100\n",
            "3/3 [==============================] - 0s 53ms/step - loss: 0.0096 - val_loss: 0.0041\n",
            "Epoch 67/100\n",
            "3/3 [==============================] - 0s 54ms/step - loss: 0.0095 - val_loss: 0.0041\n",
            "Epoch 68/100\n",
            "3/3 [==============================] - 0s 54ms/step - loss: 0.0094 - val_loss: 0.0041\n",
            "Epoch 69/100\n",
            "3/3 [==============================] - 0s 58ms/step - loss: 0.0095 - val_loss: 0.0041\n",
            "Epoch 70/100\n",
            "3/3 [==============================] - 0s 54ms/step - loss: 0.0093 - val_loss: 0.0041\n",
            "Epoch 71/100\n",
            "3/3 [==============================] - 0s 53ms/step - loss: 0.0094 - val_loss: 0.0041\n",
            "Epoch 72/100\n",
            "3/3 [==============================] - 0s 56ms/step - loss: 0.0093 - val_loss: 0.0041\n",
            "Epoch 73/100\n",
            "3/3 [==============================] - 0s 54ms/step - loss: 0.0093 - val_loss: 0.0040\n",
            "Epoch 74/100\n",
            "3/3 [==============================] - 0s 53ms/step - loss: 0.0097 - val_loss: 0.0042\n",
            "Epoch 75/100\n",
            "3/3 [==============================] - 0s 52ms/step - loss: 0.0092 - val_loss: 0.0041\n",
            "Epoch 76/100\n",
            "3/3 [==============================] - 0s 53ms/step - loss: 0.0092 - val_loss: 0.0040\n",
            "Epoch 77/100\n",
            "3/3 [==============================] - 0s 53ms/step - loss: 0.0091 - val_loss: 0.0040\n",
            "Epoch 78/100\n",
            "3/3 [==============================] - 0s 53ms/step - loss: 0.0090 - val_loss: 0.0040\n",
            "Epoch 79/100\n",
            "3/3 [==============================] - 0s 53ms/step - loss: 0.0090 - val_loss: 0.0040\n",
            "Epoch 80/100\n",
            "3/3 [==============================] - 0s 54ms/step - loss: 0.0089 - val_loss: 0.0040\n",
            "Epoch 81/100\n",
            "3/3 [==============================] - 0s 52ms/step - loss: 0.0089 - val_loss: 0.0039\n",
            "Epoch 82/100\n",
            "3/3 [==============================] - 0s 58ms/step - loss: 0.0090 - val_loss: 0.0039\n",
            "Epoch 83/100\n",
            "3/3 [==============================] - 0s 55ms/step - loss: 0.0087 - val_loss: 0.0039\n",
            "Epoch 84/100\n",
            "3/3 [==============================] - 0s 54ms/step - loss: 0.0087 - val_loss: 0.0039\n",
            "Epoch 85/100\n",
            "3/3 [==============================] - 0s 59ms/step - loss: 0.0086 - val_loss: 0.0039\n",
            "Epoch 86/100\n",
            "3/3 [==============================] - 0s 53ms/step - loss: 0.0087 - val_loss: 0.0039\n",
            "Epoch 87/100\n",
            "3/3 [==============================] - 0s 57ms/step - loss: 0.0087 - val_loss: 0.0039\n",
            "Epoch 88/100\n",
            "3/3 [==============================] - 0s 52ms/step - loss: 0.0084 - val_loss: 0.0039\n",
            "Epoch 89/100\n",
            "3/3 [==============================] - 0s 55ms/step - loss: 0.0086 - val_loss: 0.0039\n",
            "Epoch 90/100\n",
            "3/3 [==============================] - 0s 52ms/step - loss: 0.0086 - val_loss: 0.0040\n",
            "Epoch 91/100\n",
            "3/3 [==============================] - 0s 59ms/step - loss: 0.0083 - val_loss: 0.0039\n",
            "Epoch 92/100\n",
            "3/3 [==============================] - 0s 53ms/step - loss: 0.0084 - val_loss: 0.0038\n",
            "Epoch 93/100\n",
            "3/3 [==============================] - 0s 57ms/step - loss: 0.0081 - val_loss: 0.0039\n",
            "Epoch 94/100\n",
            "3/3 [==============================] - 0s 52ms/step - loss: 0.0081 - val_loss: 0.0039\n",
            "Epoch 95/100\n",
            "3/3 [==============================] - 0s 65ms/step - loss: 0.0080 - val_loss: 0.0038\n",
            "Epoch 96/100\n",
            "3/3 [==============================] - 0s 53ms/step - loss: 0.0078 - val_loss: 0.0037\n",
            "Epoch 97/100\n",
            "3/3 [==============================] - 0s 57ms/step - loss: 0.0078 - val_loss: 0.0038\n",
            "Epoch 98/100\n",
            "3/3 [==============================] - 0s 53ms/step - loss: 0.0076 - val_loss: 0.0037\n",
            "Epoch 99/100\n",
            "3/3 [==============================] - 0s 54ms/step - loss: 0.0076 - val_loss: 0.0037\n",
            "Epoch 100/100\n",
            "3/3 [==============================] - 0s 52ms/step - loss: 0.0073 - val_loss: 0.0039\n"
          ]
        },
        {
          "output_type": "execute_result",
          "data": {
            "text/plain": [
              "<tensorflow.python.keras.callbacks.History at 0x7f5df5cced50>"
            ]
          },
          "metadata": {},
          "execution_count": 28
        }
      ],
      "source": [
        "model.fit(X_train,y_train,validation_data=(X_test,y_test),epochs=100,batch_size=64,verbose=1)"
      ]
    },
    {
      "cell_type": "code",
      "execution_count": null,
      "outputs": [],
      "source": [
        "# Prediction and check performances\n",
        "train_predict=model.predict(X_train)\n",
        "test_predict=model.predict(X_test)"
      ],
      "metadata": {
        "pycharm": {
          "name": "#%%\n"
        },
        "id": "l2ByaWuuma7I"
      }
    },
    {
      "cell_type": "code",
      "execution_count": null,
      "outputs": [],
      "source": [
        "# Inverse transform to original close price\n",
        "train_predict=scaler.inverse_transform(train_predict)\n",
        "test_predict=scaler.inverse_transform(test_predict)"
      ],
      "metadata": {
        "pycharm": {
          "name": "#%%\n"
        },
        "id": "XO7aiaX2ma7J"
      }
    },
    {
      "cell_type": "code",
      "execution_count": null,
      "outputs": [
        {
          "output_type": "execute_result",
          "data": {
            "text/plain": [
              "42.5168145856268"
            ]
          },
          "metadata": {},
          "execution_count": 37
        }
      ],
      "source": [
        "# # Calculate RMSE performance metrics\n",
        "# import math\n",
        "# from sklearn.metrics import mean_squared_error\n",
        "# math.sqrt(mean_squared_error(y_train,train_predict))\n",
        "import math\n",
        "from sklearn.metrics import mean_absolute_error, accuracy_score\n",
        "math.sqrt(mean_absolute_error(y_train,train_predict))"
      ],
      "metadata": {
        "pycharm": {
          "name": "#%%\n"
        },
        "colab": {
          "base_uri": "https://localhost:8080/"
        },
        "id": "s5d0lwU1ma7J",
        "outputId": "b8b77db1-c391-4b9e-82c1-301a176e6b73"
      }
    },
    {
      "cell_type": "code",
      "execution_count": null,
      "outputs": [
        {
          "output_type": "execute_result",
          "data": {
            "text/plain": [
              "42.235123403369634"
            ]
          },
          "metadata": {},
          "execution_count": 39
        }
      ],
      "source": [
        "# Test Data MAE\n",
        "math.sqrt(mean_absolute_error(y_test,test_predict))"
      ],
      "metadata": {
        "pycharm": {
          "name": "#%%\n"
        },
        "colab": {
          "base_uri": "https://localhost:8080/"
        },
        "id": "edY8oNLMma7J",
        "outputId": "39c8f883-fb2f-4147-9043-85f834ccb855"
      }
    },
    {
      "cell_type": "code",
      "execution_count": null,
      "outputs": [
        {
          "output_type": "display_data",
          "data": {
            "image/png": "[encoded data removed]",
            "text/plain": [
              "<Figure size 432x288 with 1 Axes>"
            ]
          },
          "metadata": {
            "needs_background": "light"
          }
        }
      ],
      "source": [
        "### Plotting\n",
        "# shift train predictions for plotting\n",
        "look_back=10\n",
        "trainPredictPlot = np.empty_like(df)\n",
        "trainPredictPlot[:, :] = np.nan\n",
        "trainPredictPlot[look_back:len(train_predict)+look_back, :] = train_predict\n",
        "# shift test predictions for plotting\n",
        "testPredictPlot = np.empty_like(df)\n",
        "testPredictPlot[:, :] = np.nan\n",
        "testPredictPlot[len(train_predict)+(look_back*2)+1:len(df)-1, :] = test_predict\n",
        "# plot baseline and predictions\n",
        "plt.plot(scaler.inverse_transform(df))\n",
        "plt.plot(trainPredictPlot)\n",
        "plt.plot(testPredictPlot)\n",
        "plt.show()"
      ],
      "metadata": {
        "pycharm": {
          "name": "#%%\n"
        },
        "colab": {
          "base_uri": "https://localhost:8080/",
          "height": 265
        },
        "id": "qcsLaUjLma7K",
        "outputId": "3cc25048-23e5-4356-88bc-9db9fcaffbfc"
      }
    },
    {
      "cell_type": "code",
      "execution_count": null,
      "outputs": [
        {
          "output_type": "execute_result",
          "data": {
            "text/plain": [
              "51"
            ]
          },
          "metadata": {},
          "execution_count": 42
        }
      ],
      "source": [
        "len(test_data)"
      ],
      "metadata": {
        "pycharm": {
          "name": "#%%\n"
        },
        "colab": {
          "base_uri": "https://localhost:8080/"
        },
        "id": "NsSm4RfYma7K",
        "outputId": "244221db-8ee3-44c2-ff34-a5b1f9284084"
      }
    },
    {
      "cell_type": "code",
      "execution_count": null,
      "outputs": [
        {
          "output_type": "execute_result",
          "data": {
            "text/plain": [
              "array([[0.51646781, 0.55766171, 0.54492908, 0.56077283, 0.54967255,\n",
              "        0.5621555 , 0.55487691, 0.70766841, 0.70964654, 0.66564885]])"
            ]
          },
          "metadata": {},
          "execution_count": 45
        }
      ],
      "source": [
        "x_input=test_data[41:].reshape(1,-1)\n",
        "x_input.shape\n",
        "x_input"
      ],
      "metadata": {
        "pycharm": {
          "name": "#%%\n"
        },
        "colab": {
          "base_uri": "https://localhost:8080/"
        },
        "id": "vAkhSZ9_ma7L",
        "outputId": "4fefd9d7-299b-4975-f3ce-423fd20f6ae1"
      }
    },
    {
      "cell_type": "code",
      "execution_count": null,
      "outputs": [
        {
          "output_type": "execute_result",
          "data": {
            "text/plain": [
              "[0.5164678070617978,\n",
              " 0.5576617054914883,\n",
              " 0.5449290800758431,\n",
              " 0.5607728330648323,\n",
              " 0.5496725474346733,\n",
              " 0.5621555043350894,\n",
              " 0.5548769052169233,\n",
              " 0.7076684102046671,\n",
              " 0.7096465350229835,\n",
              " 0.665648847445738]"
            ]
          },
          "metadata": {},
          "execution_count": 46
        }
      ],
      "source": [
        "temp_input=list(x_input)\n",
        "temp_input=temp_input[0].tolist()\n",
        "temp_input"
      ],
      "metadata": {
        "pycharm": {
          "name": "#%%\n"
        },
        "colab": {
          "base_uri": "https://localhost:8080/"
        },
        "id": "9bPUBQLfma7L",
        "outputId": "ee176655-81e4-4d54-8ca6-b8b678acb59e"
      }
    },
    {
      "cell_type": "code",
      "execution_count": null,
      "outputs": [
        {
          "output_type": "stream",
          "name": "stdout",
          "text": [
            "[0.617515]\n",
            "11\n",
            "1 day input [0.55766171 0.54492908 0.56077283 0.54967255 0.5621555  0.55487691\n",
            " 0.70766841 0.70964654 0.66564885 0.61751503]\n",
            "1 day output [[0.6345599]]\n",
            "2 day input [0.54492908 0.56077283 0.54967255 0.5621555  0.55487691 0.70766841\n",
            " 0.70964654 0.66564885 0.61751503 0.63455993]\n",
            "2 day output [[0.6472883]]\n",
            "3 day input [0.56077283 0.54967255 0.5621555  0.55487691 0.70766841 0.70964654\n",
            " 0.66564885 0.61751503 0.63455993 0.64728832]\n",
            "3 day output [[0.6560981]]\n",
            "4 day input [0.54967255 0.5621555  0.55487691 0.70766841 0.70964654 0.66564885\n",
            " 0.61751503 0.63455993 0.64728832 0.65609813]\n",
            "4 day output [[0.6615598]]\n",
            "5 day input [0.5621555  0.55487691 0.70766841 0.70964654 0.66564885 0.61751503\n",
            " 0.63455993 0.64728832 0.65609813 0.66155982]\n",
            "5 day output [[0.66458905]]\n",
            "6 day input [0.55487691 0.70766841 0.70964654 0.66564885 0.61751503 0.63455993\n",
            " 0.64728832 0.65609813 0.66155982 0.66458905]\n",
            "6 day output [[0.6659379]]\n",
            "7 day input [0.70766841 0.70964654 0.66564885 0.61751503 0.63455993 0.64728832\n",
            " 0.65609813 0.66155982 0.66458905 0.6659379 ]\n",
            "7 day output [[0.6661764]]\n",
            "8 day input [0.70964654 0.66564885 0.61751503 0.63455993 0.64728832 0.65609813\n",
            " 0.66155982 0.66458905 0.6659379  0.66617638]\n",
            "8 day output [[0.6675393]]\n",
            "9 day input [0.66564885 0.61751503 0.63455993 0.64728832 0.65609813 0.66155982\n",
            " 0.66458905 0.6659379  0.66617638 0.6675393 ]\n",
            "9 day output [[0.6704239]]\n",
            "10 day input [0.61751503 0.63455993 0.64728832 0.65609813 0.66155982 0.66458905\n",
            " 0.6659379  0.66617638 0.6675393  0.67042392]\n",
            "10 day output [[0.67382264]]\n",
            "11 day input [0.63455993 0.64728832 0.65609813 0.66155982 0.66458905 0.6659379\n",
            " 0.66617638 0.6675393  0.67042392 0.67382264]\n",
            "11 day output [[0.6766956]]\n",
            "12 day input [0.64728832 0.65609813 0.66155982 0.66458905 0.6659379  0.66617638\n",
            " 0.6675393  0.67042392 0.67382264 0.67669559]\n",
            "12 day output [[0.67896783]]\n",
            "13 day input [0.65609813 0.66155982 0.66458905 0.6659379  0.66617638 0.6675393\n",
            " 0.67042392 0.67382264 0.67669559 0.67896783]\n",
            "13 day output [[0.6810176]]\n",
            "14 day input [0.66155982 0.66458905 0.6659379  0.66617638 0.6675393  0.67042392\n",
            " 0.67382264 0.67669559 0.67896783 0.68101758]\n",
            "14 day output [[0.6830424]]\n",
            "15 day input [0.66458905 0.6659379  0.66617638 0.6675393  0.67042392 0.67382264\n",
            " 0.67669559 0.67896783 0.68101758 0.68304241]\n",
            "15 day output [[0.68510914]]\n",
            "16 day input [0.6659379  0.66617638 0.6675393  0.67042392 0.67382264 0.67669559\n",
            " 0.67896783 0.68101758 0.68304241 0.68510914]\n",
            "16 day output [[0.68720853]]\n",
            "17 day input [0.66617638 0.6675393  0.67042392 0.67382264 0.67669559 0.67896783\n",
            " 0.68101758 0.68304241 0.68510914 0.68720853]\n",
            "17 day output [[0.6892966]]\n",
            "18 day input [0.6675393  0.67042392 0.67382264 0.67669559 0.67896783 0.68101758\n",
            " 0.68304241 0.68510914 0.68720853 0.6892966 ]\n",
            "18 day output [[0.6913213]]\n",
            "19 day input [0.67042392 0.67382264 0.67669559 0.67896783 0.68101758 0.68304241\n",
            " 0.68510914 0.68720853 0.6892966  0.69132131]\n",
            "19 day output [[0.69325763]]\n",
            "20 day input [0.67382264 0.67669559 0.67896783 0.68101758 0.68304241 0.68510914\n",
            " 0.68720853 0.6892966  0.69132131 0.69325763]\n",
            "20 day output [[0.6951171]]\n",
            "21 day input [0.67669559 0.67896783 0.68101758 0.68304241 0.68510914 0.68720853\n",
            " 0.6892966  0.69132131 0.69325763 0.69511712]\n",
            "21 day output [[0.6969242]]\n",
            "22 day input [0.67896783 0.68101758 0.68304241 0.68510914 0.68720853 0.6892966\n",
            " 0.69132131 0.69325763 0.69511712 0.69692421]\n",
            "22 day output [[0.6986929]]\n",
            "23 day input [0.68101758 0.68304241 0.68510914 0.68720853 0.6892966  0.69132131\n",
            " 0.69325763 0.69511712 0.69692421 0.69869292]\n",
            "23 day output [[0.7004231]]\n",
            "24 day input [0.68304241 0.68510914 0.68720853 0.6892966  0.69132131 0.69325763\n",
            " 0.69511712 0.69692421 0.69869292 0.70042312]\n",
            "24 day output [[0.70210975]]\n",
            "25 day input [0.68510914 0.68720853 0.6892966  0.69132131 0.69325763 0.69511712\n",
            " 0.69692421 0.69869292 0.70042312 0.70210975]\n",
            "25 day output [[0.70374936]]\n",
            "26 day input [0.68720853 0.6892966  0.69132131 0.69325763 0.69511712 0.69692421\n",
            " 0.69869292 0.70042312 0.70210975 0.70374936]\n",
            "26 day output [[0.70534146]]\n",
            "27 day input [0.6892966  0.69132131 0.69325763 0.69511712 0.69692421 0.69869292\n",
            " 0.70042312 0.70210975 0.70374936 0.70534146]\n",
            "27 day output [[0.7068878]]\n",
            "28 day input [0.69132131 0.69325763 0.69511712 0.69692421 0.69869292 0.70042312\n",
            " 0.70210975 0.70374936 0.70534146 0.70688778]\n",
            "28 day output [[0.70839083]]\n",
            "29 day input [0.69325763 0.69511712 0.69692421 0.69869292 0.70042312 0.70210975\n",
            " 0.70374936 0.70534146 0.70688778 0.70839083]\n",
            "29 day output [[0.7098527]]\n"
          ]
        }
      ],
      "source": [
        "# Prediction for next 30 days\n",
        "\n",
        "lst_output=[]\n",
        "n_steps=10\n",
        "i=0\n",
        "while(i<30):\n",
        "\n",
        "    if len(temp_input)>10:\n",
        "        # Shifting x_input to next day\n",
        "        x_input=np.array(temp_input[1:])\n",
        "        print(\"{} day input {}\".format(i,x_input))\n",
        "        x_input=x_input.reshape(1,-1)\n",
        "        x_input = x_input.reshape((1, n_steps, 1))\n",
        "        #print(x_input)\n",
        "        yhat = model.predict(x_input, verbose=0)\n",
        "        print(\"{} day output {}\".format(i,yhat))\n",
        "        temp_input.extend(yhat[0].tolist())\n",
        "        temp_input=temp_input[1:]\n",
        "        #print(temp_input)\n",
        "        lst_output.extend(yhat.tolist())\n",
        "        i=i+1\n",
        "    else:\n",
        "        x_input = x_input.reshape((1, n_steps,1))\n",
        "        # Predict next day\n",
        "        yhat = model.predict(x_input, verbose=0)\n",
        "        print(yhat[0])\n",
        "        temp_input.extend(yhat[0].tolist())\n",
        "        print(len(temp_input))\n",
        "        lst_output.extend(yhat.tolist())\n",
        "        i=i+1\n"
      ],
      "metadata": {
        "pycharm": {
          "name": "#%%\n"
        },
        "colab": {
          "base_uri": "https://localhost:8080/"
        },
        "id": "KKS77DD2ma7L",
        "outputId": "60d67cca-ce4f-4cd1-e86c-259928c53af6"
      }
    },
    {
      "cell_type": "code",
      "execution_count": null,
      "outputs": [
        {
          "output_type": "stream",
          "name": "stdout",
          "text": [
            "[[0.6175150275230408], [0.6345599293708801], [0.6472883224487305], [0.6560981273651123], [0.6615598201751709], [0.6645890474319458], [0.6659379005432129], [0.6661763787269592], [0.6675392985343933], [0.6704239249229431], [0.6738226413726807], [0.6766955852508545], [0.6789678335189819], [0.6810175776481628], [0.6830424070358276], [0.6851091384887695], [0.6872085332870483], [0.6892966032028198], [0.6913213133811951], [0.6932576298713684], [0.6951171159744263], [0.6969242095947266], [0.6986929178237915], [0.7004231214523315], [0.7021097540855408], [0.7037493586540222], [0.7053414583206177], [0.7068877816200256], [0.7083908319473267], [0.7098526954650879]]\n"
          ]
        }
      ],
      "source": [
        "print(lst_output)"
      ],
      "metadata": {
        "pycharm": {
          "name": "#%%\n"
        },
        "colab": {
          "base_uri": "https://localhost:8080/"
        },
        "id": "akYWptHema7M",
        "outputId": "151ffd0b-27ae-4194-b59e-09333be75a6c"
      }
    },
    {
      "cell_type": "code",
      "execution_count": null,
      "outputs": [],
      "source": [
        "day_new=np.arange(1,11)\n",
        "day_pred=np.arange(11,41)"
      ],
      "metadata": {
        "pycharm": {
          "name": "#%%\n"
        },
        "id": "Wq6Q0wBjma7M"
      }
    },
    {
      "cell_type": "code",
      "execution_count": null,
      "outputs": [
        {
          "output_type": "execute_result",
          "data": {
            "text/plain": [
              "251"
            ]
          },
          "metadata": {},
          "execution_count": 52
        }
      ],
      "source": [
        "len(df)"
      ],
      "metadata": {
        "pycharm": {
          "name": "#%%\n"
        },
        "colab": {
          "base_uri": "https://localhost:8080/"
        },
        "id": "4rpqHDZxma7M",
        "outputId": "6a6fe2ef-19e3-4649-e97f-de7467c82cae"
      }
    },
    {
      "cell_type": "code",
      "execution_count": null,
      "outputs": [
        {
          "output_type": "execute_result",
          "data": {
            "text/plain": [
              "[<matplotlib.lines.Line2D at 0x7f5df5700dd0>]"
            ]
          },
          "metadata": {},
          "execution_count": 54
        },
        {
          "output_type": "display_data",
          "data": {
            "image/png": "[encoded data removed]",
            "text/plain": [
              "<Figure size 432x288 with 1 Axes>"
            ]
          },
          "metadata": {
            "needs_background": "light"
          }
        }
      ],
      "source": [
        "# Plot real 100 close value\n",
        "plt.plot(day_new,scaler.inverse_transform(df[241:]))\n",
        "plt.plot(day_pred,scaler.inverse_transform(lst_output))"
      ],
      "metadata": {
        "pycharm": {
          "name": "#%%\n"
        },
        "colab": {
          "base_uri": "https://localhost:8080/",
          "height": 282
        },
        "id": "n8hu7R5Ima7N",
        "outputId": "2c89e19b-dc52-4c16-dfd8-84e7284b0b81"
      }
    },
    {
      "cell_type": "code",
      "execution_count": null,
      "outputs": [
        {
          "output_type": "execute_result",
          "data": {
            "text/plain": [
              "[[0.07460962628022516],\n",
              " [0.0],\n",
              " [0.14424533998991018],\n",
              " [0.24818035022045848],\n",
              " [0.300166961423987],\n",
              " [0.30562122215199716],\n",
              " [0.29947562578885867],\n",
              " [0.2694014707233774],\n",
              " [0.22455866108284406],\n",
              " [0.33469693758709074],\n",
              " [0.3524034755732761],\n",
              " [0.3705324573758406],\n",
              " [0.37625537549206944],\n",
              " [0.2532888259156385],\n",
              " [0.26836435005541937],\n",
              " [0.29699839837061415],\n",
              " [0.3270341068290552],\n",
              " [0.26427377172467725],\n",
              " [0.17975453247988105],\n",
              " [0.3267654494408361],\n",
              " [0.41952328082714585],\n",
              " [0.24188120185969053],\n",
              " [0.2554781726421447],\n",
              " [0.30444977278992935],\n",
              " [0.26882524047883827],\n",
              " [0.21910463478536446],\n",
              " [0.16888469206143197],\n",
              " [0.1742236129683219],\n",
              " [0.2645042169363867],\n",
              " [0.26832590344837914],\n",
              " [0.235006057684914],\n",
              " [0.20677522988257824],\n",
              " [0.24447376909905527],\n",
              " [0.23394971371343587],\n",
              " [0.2288412380182554],\n",
              " [0.25211737655357114],\n",
              " [0.25488271909408544],\n",
              " [0.26141231266656284],\n",
              " [0.27041913365728476],\n",
              " [0.2679993417190696],\n",
              " [0.3292619001626007],\n",
              " [0.3761979400120401],\n",
              " [0.3690154574114741],\n",
              " [0.32392297925571123],\n",
              " [0.24134341822219119],\n",
              " [0.23145326299167124],\n",
              " [0.3271302233466553],\n",
              " [0.33189291400900567],\n",
              " [0.36590432983813015],\n",
              " [0.3570892730215469],\n",
              " [0.40728999244195974],\n",
              " [0.46450041916178897],\n",
              " [0.5023332870723753],\n",
              " [0.5703558843000933],\n",
              " [0.6125866689672117],\n",
              " [0.5079410997980145],\n",
              " [0.5261661981181791],\n",
              " [0.5444105197418638],\n",
              " [0.5097269915811307],\n",
              " [0.5245530816362125],\n",
              " [0.5386299317150751],\n",
              " [0.6028498313037898],\n",
              " [0.6024466107909312],\n",
              " [0.6153520115077256],\n",
              " [0.6118184401180029],\n",
              " [0.6471933039138644],\n",
              " [0.6713525422584472],\n",
              " [0.6444277269428196],\n",
              " [0.6664937350784967],\n",
              " [0.6602330333247686],\n",
              " [0.658293589544023],\n",
              " [0.6617694910231862],\n",
              " [0.6966642410921087],\n",
              " [0.7000824726607116],\n",
              " [0.6940714394222129],\n",
              " [0.7432737192122381],\n",
              " [0.8132934301312624],\n",
              " [0.7710049755535842],\n",
              " [0.7719652030074622],\n",
              " [0.864876820821932],\n",
              " [0.8414473647195173],\n",
              " [0.818574681127592],\n",
              " [0.7897678575112477],\n",
              " [0.7692188493399374],\n",
              " [0.8875957179856977],\n",
              " [0.8647232688243025],\n",
              " [0.8079737325278926],\n",
              " [0.8017707006847248],\n",
              " [0.7673945109497811],\n",
              " [0.7484011837804077],\n",
              " [0.6191547091467284],\n",
              " [0.6526473302113436],\n",
              " [0.7122391022623482],\n",
              " [0.7821819199672921],\n",
              " [0.7081100773245663],\n",
              " [0.6888478583364432],\n",
              " [0.6860632924924088],\n",
              " [0.6902115407337108],\n",
              " [0.6053272931525653],\n",
              " [0.6203069352052766],\n",
              " [0.6455609641283773],\n",
              " [0.6124521058425714],\n",
              " [0.6069404096345319],\n",
              " [0.5277216446895858],\n",
              " [0.3695145600114027],\n",
              " [0.4403219575136861],\n",
              " [0.4574907118623721],\n",
              " [0.4879490985677233],\n",
              " [0.5833381782309686],\n",
              " [0.6920358791238672],\n",
              " [0.6979315725412456],\n",
              " [0.6818381510370268],\n",
              " [0.7106067624768615],\n",
              " [0.7093968665077539],\n",
              " [0.7408154806669827],\n",
              " [0.7702751933114156],\n",
              " [0.7845250531219583],\n",
              " [0.8025771417104424],\n",
              " [0.789345413694869],\n",
              " [0.7943385495689292],\n",
              " [0.7259127318283518],\n",
              " [0.7634767079201885],\n",
              " [0.7758637827335351],\n",
              " [0.7554108910798245],\n",
              " [0.8102589613414675],\n",
              " [0.8335350998767832],\n",
              " [0.8425419208675056],\n",
              " [0.8500509651973811],\n",
              " [0.8681222770893853],\n",
              " [0.9372204415921019],\n",
              " [0.9931248558252235],\n",
              " [0.961744453842504],\n",
              " [0.9808146742259574],\n",
              " [1.0],\n",
              " [0.9787022207135312],\n",
              " [0.9443837008891478],\n",
              " [0.9172476636653304],\n",
              " [0.8915519676223305],\n",
              " [0.9320927425934018],\n",
              " [0.9491079449444584],\n",
              " [0.9612453512425754],\n",
              " [0.9094120576061453],\n",
              " [0.8503198570161308],\n",
              " [0.7915537492943638],\n",
              " [0.7648211670139364],\n",
              " [0.7038467236926746],\n",
              " [0.6818381510370268],\n",
              " [0.6202300419911966],\n",
              " [0.5086324354331433],\n",
              " [0.5522266680669983],\n",
              " [0.5629237331842978],\n",
              " [0.6387624787371502],\n",
              " [0.5901556524951848],\n",
              " [0.5466383130754098],\n",
              " [0.6223424955036223],\n",
              " [0.5044649638883207],\n",
              " [0.529738216114942],\n",
              " [0.5613296055753207],\n",
              " [0.606556412425193],\n",
              " [0.5782489258393082],\n",
              " [0.6208062722357357],\n",
              " [0.5845480742000762],\n",
              " [0.4788461610594008],\n",
              " [0.5158149180337093],\n",
              " [0.5022948404653351],\n",
              " [0.5069424257370962],\n",
              " [0.5494805488300041],\n",
              " [0.5300647778442515],\n",
              " [0.5560868011860309],\n",
              " [0.576789361354971],\n",
              " [0.6537995562698913],\n",
              " [0.6399531514027386],\n",
              " [0.6358049031614357],\n",
              " [0.6150641308159868],\n",
              " [0.6197499282642576],\n",
              " [0.6592345936943813],\n",
              " [0.6511493191199662],\n",
              " [0.5906549895256439],\n",
              " [0.6189050406314993],\n",
              " [0.609129756361038],\n",
              " [0.6168884692061432],\n",
              " [0.5643832976686349],\n",
              " [0.5473680953175784],\n",
              " [0.4634632984938305],\n",
              " [0.5147777973657508],\n",
              " [0.4600640557982172],\n",
              " [0.43242868154394065],\n",
              " [0.452516799291832],\n",
              " [0.45201746226137285],\n",
              " [0.4089607788344862],\n",
              " [0.4304507911561548],\n",
              " [0.45969928189239795],\n",
              " [0.44627532084162436],\n",
              " [0.3941349232099354],\n",
              " [0.4257839825808736],\n",
              " [0.42246163309934026],\n",
              " [0.444854202964327],\n",
              " [0.4535154733527502],\n",
              " [0.5129534589755949],\n",
              " [0.5322541245707577],\n",
              " [0.5515545557353896],\n",
              " [0.49399857841326167],\n",
              " [0.5480594309527067],\n",
              " [0.5097846614916905],\n",
              " [0.5029479639239542],\n",
              " [0.538687601625635],\n",
              " [0.5013346130114571],\n",
              " [0.5315817778086185],\n",
              " [0.5039848501613817],\n",
              " [0.5371703672307375],\n",
              " [0.5307753367829005],\n",
              " [0.5591594821523347],\n",
              " [0.5845480742000762],\n",
              " [0.5788825915638767],\n",
              " [0.5674752019384592],\n",
              " [0.5529372270056467],\n",
              " [0.5484818747690858],\n",
              " [0.5211538389405987],\n",
              " [0.5333486807187451],\n",
              " [0.4855485299330278],\n",
              " [0.4884099889911422],\n",
              " [0.4593919434666085],\n",
              " [0.4844347504815203],\n",
              " [0.4849340875119794],\n",
              " [0.47099156612722615],\n",
              " [0.45021211274420603],\n",
              " [0.4713563400330454],\n",
              " [0.5253595226619305],\n",
              " [0.5697219841449943],\n",
              " [0.6111463277863942],\n",
              " [0.5771351463878003],\n",
              " [0.5402622715005614],\n",
              " [0.5179081482426149],\n",
              " [0.5001054937388294],\n",
              " [0.4612931750708449],\n",
              " [0.48264862426787314],\n",
              " [0.47863493915121147],\n",
              " [0.4588541598291096],\n",
              " [0.477117704756314],\n",
              " [0.4994141581037006],\n",
              " [0.5005856074657684],\n",
              " [0.5164678070617978],\n",
              " [0.5576617054914883],\n",
              " [0.5449290800758431],\n",
              " [0.5607728330648323],\n",
              " [0.5496725474346733],\n",
              " [0.5621555043350894],\n",
              " [0.5548769052169233],\n",
              " [0.7076684102046671],\n",
              " [0.7096465350229835],\n",
              " [0.665648847445738],\n",
              " [0.6175150275230408],\n",
              " [0.6345599293708801],\n",
              " [0.6472883224487305],\n",
              " [0.6560981273651123],\n",
              " [0.6615598201751709],\n",
              " [0.6645890474319458],\n",
              " [0.6659379005432129],\n",
              " [0.6661763787269592],\n",
              " [0.6675392985343933],\n",
              " [0.6704239249229431],\n",
              " [0.6738226413726807],\n",
              " [0.6766955852508545],\n",
              " [0.6789678335189819],\n",
              " [0.6810175776481628],\n",
              " [0.6830424070358276],\n",
              " [0.6851091384887695],\n",
              " [0.6872085332870483],\n",
              " [0.6892966032028198],\n",
              " [0.6913213133811951],\n",
              " [0.6932576298713684],\n",
              " [0.6951171159744263],\n",
              " [0.6969242095947266],\n",
              " [0.6986929178237915],\n",
              " [0.7004231214523315],\n",
              " [0.7021097540855408],\n",
              " [0.7037493586540222],\n",
              " [0.7053414583206177],\n",
              " [0.7068877816200256],\n",
              " [0.7083908319473267],\n",
              " [0.7098526954650879]]"
            ]
          },
          "metadata": {},
          "execution_count": 55
        }
      ],
      "source": [
        "df_new=df.tolist()\n",
        "df_new.extend(lst_output)\n",
        "df_new"
      ],
      "metadata": {
        "pycharm": {
          "name": "#%%\n"
        },
        "id": "GA2oyHsJma7N",
        "colab": {
          "base_uri": "https://localhost:8080/"
        },
        "outputId": "ab0cf721-76ab-4154-f4e7-438d1e993b01"
      }
    },
    {
      "cell_type": "code",
      "source": [
        "df=scaler.inverse_transform(df).tolist()"
      ],
      "metadata": {
        "id": "cKzmBeABWyhj"
      },
      "execution_count": null,
      "outputs": []
    },
    {
      "cell_type": "code",
      "execution_count": null,
      "outputs": [
        {
          "output_type": "execute_result",
          "data": {
            "text/plain": [
              "281"
            ]
          },
          "metadata": {},
          "execution_count": 57
        }
      ],
      "source": [
        "len(df_new)"
      ],
      "metadata": {
        "pycharm": {
          "name": "#%%\n"
        },
        "colab": {
          "base_uri": "https://localhost:8080/"
        },
        "id": "l3fJmbuTma7N",
        "outputId": "f10d97df-3bc1-4146-9688-0c1f1c656aef"
      }
    },
    {
      "cell_type": "code",
      "execution_count": null,
      "outputs": [
        {
          "output_type": "execute_result",
          "data": {
            "text/plain": [
              "[<matplotlib.lines.Line2D at 0x7f5df56740d0>]"
            ]
          },
          "metadata": {},
          "execution_count": 58
        },
        {
          "output_type": "display_data",
          "data": {
            "image/png": "[encoded data removed]",
            "text/plain": [
              "<Figure size 432x288 with 1 Axes>"
            ]
          },
          "metadata": {
            "needs_background": "light"
          }
        }
      ],
      "source": [
        "plt.plot(df)"
      ],
      "metadata": {
        "pycharm": {
          "name": "#%%\n"
        },
        "colab": {
          "base_uri": "https://localhost:8080/",
          "height": 282
        },
        "id": "_kQJ1fh3ma7N",
        "outputId": "fa37f646-87d1-470a-a949-3e2324bdbf54"
      }
    },
    {
      "cell_type": "code",
      "execution_count": null,
      "outputs": [
        {
          "output_type": "execute_result",
          "data": {
            "text/plain": [
              "[<matplotlib.lines.Line2D at 0x7f5df56dff10>]"
            ]
          },
          "metadata": {},
          "execution_count": 59
        },
        {
          "output_type": "display_data",
          "data": {
            "image/png": "[encoded data removed]",
            "text/plain": [
              "<Figure size 432x288 with 1 Axes>"
            ]
          },
          "metadata": {
            "needs_background": "light"
          }
        }
      ],
      "source": [
        "# df_new=scaler.inverse_transform(df_new).tolist()\n",
        "df = scaler.fit_transform(np.array(df).reshape(-1,1))\n",
        "df_new = scaler.fit_transform(np.array(df_new).reshape(-1,1))\n",
        "plt.plot(df_new)\n",
        "plt.plot(df)"
      ],
      "metadata": {
        "pycharm": {
          "name": "#%%\n"
        },
        "colab": {
          "base_uri": "https://localhost:8080/",
          "height": 282
        },
        "id": "thG8KFEKma7N",
        "outputId": "c39c3d14-d7b8-4629-99dd-8a5a78076397"
      }
    },
    {
      "cell_type": "code",
      "source": [
        ""
      ],
      "metadata": {
        "id": "aM2RPQX6QtrC"
      },
      "execution_count": null,
      "outputs": []
    }
  ],
  "metadata": {
    "kernelspec": {
      "display_name": "Python 3 (ipykernel)",
      "language": "python",
      "name": "python3"
    },
    "language_info": {
      "codemirror_mode": {
        "name": "ipython",
        "version": 3
      },
      "file_extension": ".py",
      "mimetype": "text/x-python",
      "name": "python",
      "nbconvert_exporter": "python",
      "pygments_lexer": "ipython3",
      "version": "3.9.7"
    },
    "colab": {
      "name": "LSTM-Amazon.ipynb",
      "provenance": [],
      "collapsed_sections": []
    }
  },
  "nbformat": 4,
  "nbformat_minor": 0
}