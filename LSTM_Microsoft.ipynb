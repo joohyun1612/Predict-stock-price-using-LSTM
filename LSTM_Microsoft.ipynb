{
  "cells": [
    {
      "cell_type": "markdown",
      "metadata": {
        "collapsed": true,
        "pycharm": {
          "name": "#%% md\n"
        },
        "id": "rrP8MNRfma64"
      },
      "source": [
        "# IMPORT DATASETS AND LIBRARIES"
      ]
    },
    {
      "cell_type": "code",
      "execution_count": null,
      "metadata": {
        "pycharm": {
          "name": "#%%\n"
        },
        "scrolled": false,
        "id": "7F03nPo5ma69"
      },
      "outputs": [],
      "source": [
        "import pandas as pd\n",
        "import matplotlib.pyplot as plt\n",
        "import numpy as np\n",
        "import plotly.express as px"
      ]
    },
    {
      "cell_type": "code",
      "source": [
        "from google.colab import drive\n",
        "drive.mount('/content/drive')"
      ],
      "metadata": {
        "colab": {
          "base_uri": "https://localhost:8080/"
        },
        "id": "AsdKyd6Omgsv",
        "outputId": "678c0f08-cd4c-4793-c789-29b438934507"
      },
      "execution_count": null,
      "outputs": [
        {
          "output_type": "stream",
          "name": "stdout",
          "text": [
            "Mounted at /content/drive\n"
          ]
        }
      ]
    },
    {
      "cell_type": "code",
      "execution_count": null,
      "metadata": {
        "pycharm": {
          "name": "#%%\n"
        },
        "colab": {
          "base_uri": "https://localhost:8080/",
          "height": 423
        },
        "id": "y_zIhPnVma6-",
        "outputId": "9d55f824-e2ea-43de-ef13-bdd8d93406f0"
      },
      "outputs": [
        {
          "output_type": "execute_result",
          "data": {
            "text/html": [
              "\n",
              "  <div id=\"df-f481f671-375b-42ea-a8ba-d978ad8b6091\">\n",
              "    <div class=\"colab-df-container\">\n",
              "      <div>\n",
              "<style scoped>\n",
              "    .dataframe tbody tr th:only-of-type {\n",
              "        vertical-align: middle;\n",
              "    }\n",
              "\n",
              "    .dataframe tbody tr th {\n",
              "        vertical-align: top;\n",
              "    }\n",
              "\n",
              "    .dataframe thead th {\n",
              "        text-align: right;\n",
              "    }\n",
              "</style>\n",
              "<table border=\"1\" class=\"dataframe\">\n",
              "  <thead>\n",
              "    <tr style=\"text-align: right;\">\n",
              "      <th></th>\n",
              "      <th>Date</th>\n",
              "      <th>Close</th>\n",
              "    </tr>\n",
              "  </thead>\n",
              "  <tbody>\n",
              "    <tr>\n",
              "      <th>0</th>\n",
              "      <td>2011-01-03</td>\n",
              "      <td>22.061127</td>\n",
              "    </tr>\n",
              "    <tr>\n",
              "      <th>1</th>\n",
              "      <td>2011-01-04</td>\n",
              "      <td>22.147865</td>\n",
              "    </tr>\n",
              "    <tr>\n",
              "      <th>2</th>\n",
              "      <td>2011-01-05</td>\n",
              "      <td>22.076897</td>\n",
              "    </tr>\n",
              "    <tr>\n",
              "      <th>3</th>\n",
              "      <td>2011-01-06</td>\n",
              "      <td>22.723434</td>\n",
              "    </tr>\n",
              "    <tr>\n",
              "      <th>4</th>\n",
              "      <td>2011-01-07</td>\n",
              "      <td>22.549980</td>\n",
              "    </tr>\n",
              "    <tr>\n",
              "      <th>...</th>\n",
              "      <td>...</td>\n",
              "      <td>...</td>\n",
              "    </tr>\n",
              "    <tr>\n",
              "      <th>2763</th>\n",
              "      <td>2021-12-23</td>\n",
              "      <td>334.690002</td>\n",
              "    </tr>\n",
              "    <tr>\n",
              "      <th>2764</th>\n",
              "      <td>2021-12-27</td>\n",
              "      <td>342.450012</td>\n",
              "    </tr>\n",
              "    <tr>\n",
              "      <th>2765</th>\n",
              "      <td>2021-12-28</td>\n",
              "      <td>341.250000</td>\n",
              "    </tr>\n",
              "    <tr>\n",
              "      <th>2766</th>\n",
              "      <td>2021-12-29</td>\n",
              "      <td>341.950012</td>\n",
              "    </tr>\n",
              "    <tr>\n",
              "      <th>2767</th>\n",
              "      <td>2021-12-30</td>\n",
              "      <td>339.320007</td>\n",
              "    </tr>\n",
              "  </tbody>\n",
              "</table>\n",
              "<p>2768 rows × 2 columns</p>\n",
              "</div>\n",
              "      <button class=\"colab-df-convert\" onclick=\"convertToInteractive('df-f481f671-375b-42ea-a8ba-d978ad8b6091')\"\n",
              "              title=\"Convert this dataframe to an interactive table.\"\n",
              "              style=\"display:none;\">\n",
              "        \n",
              "  <svg xmlns=\"http://www.w3.org/2000/svg\" height=\"24px\"viewBox=\"0 0 24 24\"\n",
              "       width=\"24px\">\n",
              "    <path d=\"M0 0h24v24H0V0z\" fill=\"none\"/>\n",
              "    <path d=\"M18.56 5.44l.94 2.06.94-2.06 2.06-.94-2.06-.94-.94-2.06-.94 2.06-2.06.94zm-11 1L8.5 8.5l.94-2.06 2.06-.94-2.06-.94L8.5 2.5l-.94 2.06-2.06.94zm10 10l.94 2.06.94-2.06 2.06-.94-2.06-.94-.94-2.06-.94 2.06-2.06.94z\"/><path d=\"M17.41 7.96l-1.37-1.37c-.4-.4-.92-.59-1.43-.59-.52 0-1.04.2-1.43.59L10.3 9.45l-7.72 7.72c-.78.78-.78 2.05 0 2.83L4 21.41c.39.39.9.59 1.41.59.51 0 1.02-.2 1.41-.59l7.78-7.78 2.81-2.81c.8-.78.8-2.07 0-2.86zM5.41 20L4 18.59l7.72-7.72 1.47 1.35L5.41 20z\"/>\n",
              "  </svg>\n",
              "      </button>\n",
              "      \n",
              "  <style>\n",
              "    .colab-df-container {\n",
              "      display:flex;\n",
              "      flex-wrap:wrap;\n",
              "      gap: 12px;\n",
              "    }\n",
              "\n",
              "    .colab-df-convert {\n",
              "      background-color: #E8F0FE;\n",
              "      border: none;\n",
              "      border-radius: 50%;\n",
              "      cursor: pointer;\n",
              "      display: none;\n",
              "      fill: #1967D2;\n",
              "      height: 32px;\n",
              "      padding: 0 0 0 0;\n",
              "      width: 32px;\n",
              "    }\n",
              "\n",
              "    .colab-df-convert:hover {\n",
              "      background-color: #E2EBFA;\n",
              "      box-shadow: 0px 1px 2px rgba(60, 64, 67, 0.3), 0px 1px 3px 1px rgba(60, 64, 67, 0.15);\n",
              "      fill: #174EA6;\n",
              "    }\n",
              "\n",
              "    [theme=dark] .colab-df-convert {\n",
              "      background-color: #3B4455;\n",
              "      fill: #D2E3FC;\n",
              "    }\n",
              "\n",
              "    [theme=dark] .colab-df-convert:hover {\n",
              "      background-color: #434B5C;\n",
              "      box-shadow: 0px 1px 3px 1px rgba(0, 0, 0, 0.15);\n",
              "      filter: drop-shadow(0px 1px 2px rgba(0, 0, 0, 0.3));\n",
              "      fill: #FFFFFF;\n",
              "    }\n",
              "  </style>\n",
              "\n",
              "      <script>\n",
              "        const buttonEl =\n",
              "          document.querySelector('#df-f481f671-375b-42ea-a8ba-d978ad8b6091 button.colab-df-convert');\n",
              "        buttonEl.style.display =\n",
              "          google.colab.kernel.accessAllowed ? 'block' : 'none';\n",
              "\n",
              "        async function convertToInteractive(key) {\n",
              "          const element = document.querySelector('#df-f481f671-375b-42ea-a8ba-d978ad8b6091');\n",
              "          const dataTable =\n",
              "            await google.colab.kernel.invokeFunction('convertToInteractive',\n",
              "                                                     [key], {});\n",
              "          if (!dataTable) return;\n",
              "\n",
              "          const docLinkHtml = 'Like what you see? Visit the ' +\n",
              "            '<a target=\"_blank\" href=https://colab.research.google.com/notebooks/data_table.ipynb>data table notebook</a>'\n",
              "            + ' to learn more about interactive tables.';\n",
              "          element.innerHTML = '';\n",
              "          dataTable['output_type'] = 'display_data';\n",
              "          await google.colab.output.renderOutput(dataTable, element);\n",
              "          const docLink = document.createElement('div');\n",
              "          docLink.innerHTML = docLinkHtml;\n",
              "          element.appendChild(docLink);\n",
              "        }\n",
              "      </script>\n",
              "    </div>\n",
              "  </div>\n",
              "  "
            ],
            "text/plain": [
              "            Date       Close\n",
              "0     2011-01-03   22.061127\n",
              "1     2011-01-04   22.147865\n",
              "2     2011-01-05   22.076897\n",
              "3     2011-01-06   22.723434\n",
              "4     2011-01-07   22.549980\n",
              "...          ...         ...\n",
              "2763  2021-12-23  334.690002\n",
              "2764  2021-12-27  342.450012\n",
              "2765  2021-12-28  341.250000\n",
              "2766  2021-12-29  341.950012\n",
              "2767  2021-12-30  339.320007\n",
              "\n",
              "[2768 rows x 2 columns]"
            ]
          },
          "metadata": {},
          "execution_count": 3
        }
      ],
      "source": [
        "# Read stock prices data\n",
        "stock_price_df = pd.read_csv('/content/drive/MyDrive/A K61 NCKH/Crawl dữ liệu đầu vào /Microsoft.csv')\n",
        "stock_price_df"
      ]
    },
    {
      "cell_type": "code",
      "execution_count": null,
      "metadata": {
        "pycharm": {
          "name": "#%%\n"
        },
        "id": "NmS7agyWma6_"
      },
      "outputs": [],
      "source": [
        "import re\n",
        "\n",
        "def clean_up_stock(text):\n",
        "    text = re.sub(r'[^\\w]', ' ', text)\n",
        "    return text"
      ]
    },
    {
      "cell_type": "code",
      "execution_count": null,
      "metadata": {
        "pycharm": {
          "name": "#%%\n"
        },
        "colab": {
          "base_uri": "https://localhost:8080/",
          "height": 423
        },
        "id": "KrGRGfxema7A",
        "outputId": "a84096e9-0b6f-4ec5-a748-75845cd6454d"
      },
      "outputs": [
        {
          "output_type": "execute_result",
          "data": {
            "text/html": [
              "\n",
              "  <div id=\"df-8fa0ef28-aef2-4fac-abf1-c20ee682a28b\">\n",
              "    <div class=\"colab-df-container\">\n",
              "      <div>\n",
              "<style scoped>\n",
              "    .dataframe tbody tr th:only-of-type {\n",
              "        vertical-align: middle;\n",
              "    }\n",
              "\n",
              "    .dataframe tbody tr th {\n",
              "        vertical-align: top;\n",
              "    }\n",
              "\n",
              "    .dataframe thead th {\n",
              "        text-align: right;\n",
              "    }\n",
              "</style>\n",
              "<table border=\"1\" class=\"dataframe\">\n",
              "  <thead>\n",
              "    <tr style=\"text-align: right;\">\n",
              "      <th></th>\n",
              "      <th>Date</th>\n",
              "      <th>Close</th>\n",
              "    </tr>\n",
              "  </thead>\n",
              "  <tbody>\n",
              "    <tr>\n",
              "      <th>0</th>\n",
              "      <td>2011-01-03</td>\n",
              "      <td>22.061127</td>\n",
              "    </tr>\n",
              "    <tr>\n",
              "      <th>1</th>\n",
              "      <td>2011-01-04</td>\n",
              "      <td>22.147865</td>\n",
              "    </tr>\n",
              "    <tr>\n",
              "      <th>2</th>\n",
              "      <td>2011-01-05</td>\n",
              "      <td>22.076897</td>\n",
              "    </tr>\n",
              "    <tr>\n",
              "      <th>3</th>\n",
              "      <td>2011-01-06</td>\n",
              "      <td>22.723434</td>\n",
              "    </tr>\n",
              "    <tr>\n",
              "      <th>4</th>\n",
              "      <td>2011-01-07</td>\n",
              "      <td>22.549980</td>\n",
              "    </tr>\n",
              "    <tr>\n",
              "      <th>...</th>\n",
              "      <td>...</td>\n",
              "      <td>...</td>\n",
              "    </tr>\n",
              "    <tr>\n",
              "      <th>2763</th>\n",
              "      <td>2021-12-23</td>\n",
              "      <td>334.690002</td>\n",
              "    </tr>\n",
              "    <tr>\n",
              "      <th>2764</th>\n",
              "      <td>2021-12-27</td>\n",
              "      <td>342.450012</td>\n",
              "    </tr>\n",
              "    <tr>\n",
              "      <th>2765</th>\n",
              "      <td>2021-12-28</td>\n",
              "      <td>341.250000</td>\n",
              "    </tr>\n",
              "    <tr>\n",
              "      <th>2766</th>\n",
              "      <td>2021-12-29</td>\n",
              "      <td>341.950012</td>\n",
              "    </tr>\n",
              "    <tr>\n",
              "      <th>2767</th>\n",
              "      <td>2021-12-30</td>\n",
              "      <td>339.320007</td>\n",
              "    </tr>\n",
              "  </tbody>\n",
              "</table>\n",
              "<p>2768 rows × 2 columns</p>\n",
              "</div>\n",
              "      <button class=\"colab-df-convert\" onclick=\"convertToInteractive('df-8fa0ef28-aef2-4fac-abf1-c20ee682a28b')\"\n",
              "              title=\"Convert this dataframe to an interactive table.\"\n",
              "              style=\"display:none;\">\n",
              "        \n",
              "  <svg xmlns=\"http://www.w3.org/2000/svg\" height=\"24px\"viewBox=\"0 0 24 24\"\n",
              "       width=\"24px\">\n",
              "    <path d=\"M0 0h24v24H0V0z\" fill=\"none\"/>\n",
              "    <path d=\"M18.56 5.44l.94 2.06.94-2.06 2.06-.94-2.06-.94-.94-2.06-.94 2.06-2.06.94zm-11 1L8.5 8.5l.94-2.06 2.06-.94-2.06-.94L8.5 2.5l-.94 2.06-2.06.94zm10 10l.94 2.06.94-2.06 2.06-.94-2.06-.94-.94-2.06-.94 2.06-2.06.94z\"/><path d=\"M17.41 7.96l-1.37-1.37c-.4-.4-.92-.59-1.43-.59-.52 0-1.04.2-1.43.59L10.3 9.45l-7.72 7.72c-.78.78-.78 2.05 0 2.83L4 21.41c.39.39.9.59 1.41.59.51 0 1.02-.2 1.41-.59l7.78-7.78 2.81-2.81c.8-.78.8-2.07 0-2.86zM5.41 20L4 18.59l7.72-7.72 1.47 1.35L5.41 20z\"/>\n",
              "  </svg>\n",
              "      </button>\n",
              "      \n",
              "  <style>\n",
              "    .colab-df-container {\n",
              "      display:flex;\n",
              "      flex-wrap:wrap;\n",
              "      gap: 12px;\n",
              "    }\n",
              "\n",
              "    .colab-df-convert {\n",
              "      background-color: #E8F0FE;\n",
              "      border: none;\n",
              "      border-radius: 50%;\n",
              "      cursor: pointer;\n",
              "      display: none;\n",
              "      fill: #1967D2;\n",
              "      height: 32px;\n",
              "      padding: 0 0 0 0;\n",
              "      width: 32px;\n",
              "    }\n",
              "\n",
              "    .colab-df-convert:hover {\n",
              "      background-color: #E2EBFA;\n",
              "      box-shadow: 0px 1px 2px rgba(60, 64, 67, 0.3), 0px 1px 3px 1px rgba(60, 64, 67, 0.15);\n",
              "      fill: #174EA6;\n",
              "    }\n",
              "\n",
              "    [theme=dark] .colab-df-convert {\n",
              "      background-color: #3B4455;\n",
              "      fill: #D2E3FC;\n",
              "    }\n",
              "\n",
              "    [theme=dark] .colab-df-convert:hover {\n",
              "      background-color: #434B5C;\n",
              "      box-shadow: 0px 1px 3px 1px rgba(0, 0, 0, 0.15);\n",
              "      filter: drop-shadow(0px 1px 2px rgba(0, 0, 0, 0.3));\n",
              "      fill: #FFFFFF;\n",
              "    }\n",
              "  </style>\n",
              "\n",
              "      <script>\n",
              "        const buttonEl =\n",
              "          document.querySelector('#df-8fa0ef28-aef2-4fac-abf1-c20ee682a28b button.colab-df-convert');\n",
              "        buttonEl.style.display =\n",
              "          google.colab.kernel.accessAllowed ? 'block' : 'none';\n",
              "\n",
              "        async function convertToInteractive(key) {\n",
              "          const element = document.querySelector('#df-8fa0ef28-aef2-4fac-abf1-c20ee682a28b');\n",
              "          const dataTable =\n",
              "            await google.colab.kernel.invokeFunction('convertToInteractive',\n",
              "                                                     [key], {});\n",
              "          if (!dataTable) return;\n",
              "\n",
              "          const docLinkHtml = 'Like what you see? Visit the ' +\n",
              "            '<a target=\"_blank\" href=https://colab.research.google.com/notebooks/data_table.ipynb>data table notebook</a>'\n",
              "            + ' to learn more about interactive tables.';\n",
              "          element.innerHTML = '';\n",
              "          dataTable['output_type'] = 'display_data';\n",
              "          await google.colab.output.renderOutput(dataTable, element);\n",
              "          const docLink = document.createElement('div');\n",
              "          docLink.innerHTML = docLinkHtml;\n",
              "          element.appendChild(docLink);\n",
              "        }\n",
              "      </script>\n",
              "    </div>\n",
              "  </div>\n",
              "  "
            ],
            "text/plain": [
              "            Date       Close\n",
              "0     2011-01-03   22.061127\n",
              "1     2011-01-04   22.147865\n",
              "2     2011-01-05   22.076897\n",
              "3     2011-01-06   22.723434\n",
              "4     2011-01-07   22.549980\n",
              "...          ...         ...\n",
              "2763  2021-12-23  334.690002\n",
              "2764  2021-12-27  342.450012\n",
              "2765  2021-12-28  341.250000\n",
              "2766  2021-12-29  341.950012\n",
              "2767  2021-12-30  339.320007\n",
              "\n",
              "[2768 rows x 2 columns]"
            ]
          },
          "metadata": {},
          "execution_count": 5
        }
      ],
      "source": [
        "col = ['Close']\n",
        "for i in col:\n",
        "    stock_price_df[i] = stock_price_df[i].replace({r'\\$':''}, regex = True)\n",
        "    stock_price_df[i] = stock_price_df[i].astype(float)\n",
        "\n",
        "stock_price_df"
      ]
    },
    {
      "cell_type": "code",
      "execution_count": null,
      "metadata": {
        "pycharm": {
          "name": "#%%\n"
        },
        "colab": {
          "base_uri": "https://localhost:8080/"
        },
        "id": "2fpcqtllma7B",
        "outputId": "c46eec47-732a-456b-96af-0031f706689f"
      },
      "outputs": [
        {
          "output_type": "execute_result",
          "data": {
            "text/plain": [
              "0        22.061127\n",
              "1        22.147865\n",
              "2        22.076897\n",
              "3        22.723434\n",
              "4        22.549980\n",
              "           ...    \n",
              "2763    334.690002\n",
              "2764    342.450012\n",
              "2765    341.250000\n",
              "2766    341.950012\n",
              "2767    339.320007\n",
              "Name: Close, Length: 2768, dtype: float64"
            ]
          },
          "metadata": {},
          "execution_count": 6
        }
      ],
      "source": [
        "df = stock_price_df.reset_index()['Close']\n",
        "df = df.iloc[::1].reset_index()['Close']\n",
        "df"
      ]
    },
    {
      "cell_type": "code",
      "execution_count": null,
      "metadata": {
        "pycharm": {
          "name": "#%%\n"
        },
        "colab": {
          "base_uri": "https://localhost:8080/",
          "height": 282
        },
        "id": "WXC3vvt3ma7B",
        "outputId": "03f19ffa-f40b-417e-ea35-fd642c364187"
      },
      "outputs": [
        {
          "output_type": "execute_result",
          "data": {
            "text/plain": [
              "[<matplotlib.lines.Line2D at 0x7f575fe56310>]"
            ]
          },
          "metadata": {},
          "execution_count": 7
        },
        {
          "output_type": "display_data",
          "data": {
            "image/png": "[encoded data removed]",
            "text/plain": [
              "<Figure size 432x288 with 1 Axes>"
            ]
          },
          "metadata": {
            "needs_background": "light"
          }
        }
      ],
      "source": [
        "plt.plot(df)"
      ]
    },
    {
      "cell_type": "markdown",
      "metadata": {
        "pycharm": {
          "name": "#%% md\n"
        },
        "id": "JIZTDN1yma7C"
      },
      "source": [
        "# MinMax Scaler"
      ]
    },
    {
      "cell_type": "code",
      "execution_count": null,
      "metadata": {
        "pycharm": {
          "name": "#%%\n"
        },
        "colab": {
          "base_uri": "https://localhost:8080/"
        },
        "id": "QiOhNDYsma7D",
        "outputId": "8876bfe8-924d-40ef-8826-f507d791481e"
      },
      "outputs": [
        {
          "output_type": "stream",
          "name": "stdout",
          "text": [
            "[[0.00966425]\n",
            " [0.00993181]\n",
            " [0.0097129 ]\n",
            " ...\n",
            " [0.99426252]\n",
            " [0.99642184]\n",
            " [0.9883091 ]]\n"
          ]
        }
      ],
      "source": [
        "from sklearn.preprocessing import MinMaxScaler\n",
        "scaler = MinMaxScaler(feature_range=(0,1))\n",
        "df = scaler.fit_transform(np.array(df).reshape(-1,1))\n",
        "print(df)"
      ]
    },
    {
      "cell_type": "markdown",
      "metadata": {
        "pycharm": {
          "name": "#%% md\n"
        },
        "id": "5ERswzihma7E"
      },
      "source": [
        "# Splitting Data to train test"
      ]
    },
    {
      "cell_type": "code",
      "execution_count": null,
      "metadata": {
        "pycharm": {
          "name": "#%%\n"
        },
        "id": "NhdGbkNDma7E"
      },
      "outputs": [],
      "source": [
        "training_size = int(len(df) * 0.8)\n",
        "test_size = len(df) - training_size\n",
        "train_data, test_data = df[0:training_size,:], df[training_size:len(df),:1]"
      ]
    },
    {
      "cell_type": "code",
      "execution_count": null,
      "metadata": {
        "pycharm": {
          "name": "#%%\n"
        },
        "id": "SStLD-jCma7F"
      },
      "outputs": [],
      "source": [
        "# Convert an array of values into a dataset matrix\n",
        "def create_dataset(dataset, time_step=1):\n",
        "    dataX, dataY = [], []\n",
        "    for i in range(len(dataset)-time_step-1):\n",
        "        a = dataset[i:(i+time_step), 0]   ###i=0, 0,1,2,3-----99   100\n",
        "        dataX.append(a)\n",
        "        dataY.append(dataset[i + time_step, 0])\n",
        "    return np.array(dataX), np.array(dataY)"
      ]
    },
    {
      "cell_type": "code",
      "execution_count": null,
      "metadata": {
        "pycharm": {
          "name": "#%%\n"
        },
        "id": "9_0xqRComa7G"
      },
      "outputs": [],
      "source": [
        "time_step = 100\n",
        "feature = 1\n",
        "X_train, y_train = create_dataset(train_data, time_step)\n",
        "X_test, y_test = create_dataset(test_data, time_step)"
      ]
    },
    {
      "cell_type": "code",
      "execution_count": null,
      "metadata": {
        "pycharm": {
          "name": "#%%\n"
        },
        "id": "TSDULhAYma7G"
      },
      "outputs": [],
      "source": [
        "# Reshape input to be [samples, time steps, features] which is required for LSTM\n",
        "X_train =X_train.reshape(X_train.shape[0],X_train.shape[1] , feature)\n",
        "X_test = X_test.reshape(X_test.shape[0],X_test.shape[1] , feature)"
      ]
    },
    {
      "cell_type": "code",
      "execution_count": null,
      "metadata": {
        "pycharm": {
          "name": "#%%\n"
        },
        "scrolled": false,
        "id": "54uXjs03ma7H"
      },
      "outputs": [],
      "source": [
        "### Create the Stacked LSTM model\n",
        "\n",
        "from tensorflow.python.keras.layers import Dense, LSTM\n",
        "from tensorflow.python.keras.models import Sequential"
      ]
    },
    {
      "cell_type": "code",
      "execution_count": null,
      "metadata": {
        "pycharm": {
          "name": "#%%\n"
        },
        "id": "y4o3Vokpma7H"
      },
      "outputs": [],
      "source": [
        "model= Sequential()\n",
        "model.add(LSTM(50,return_sequences=True,input_shape=(time_step, feature)))\n",
        "model.add(LSTM(50,return_sequences=True))\n",
        "model.add(LSTM(50))\n",
        "model.add(Dense(1))\n",
        "model.compile(loss='mean_squared_error',optimizer='adam')"
      ]
    },
    {
      "cell_type": "code",
      "execution_count": null,
      "metadata": {
        "pycharm": {
          "name": "#%%\n"
        },
        "colab": {
          "base_uri": "https://localhost:8080/"
        },
        "id": "U1PTC3-Rma7H",
        "outputId": "64c5807f-4204-4707-f27a-f68b44cf9821"
      },
      "outputs": [
        {
          "output_type": "stream",
          "name": "stdout",
          "text": [
            "Model: \"sequential\"\n",
            "_________________________________________________________________\n",
            "Layer (type)                 Output Shape              Param #   \n",
            "=================================================================\n",
            "lstm (LSTM)                  (None, 100, 50)           10400     \n",
            "_________________________________________________________________\n",
            "lstm_1 (LSTM)                (None, 100, 50)           20200     \n",
            "_________________________________________________________________\n",
            "lstm_2 (LSTM)                (None, 50)                20200     \n",
            "_________________________________________________________________\n",
            "dense (Dense)                (None, 1)                 51        \n",
            "=================================================================\n",
            "Total params: 50,851\n",
            "Trainable params: 50,851\n",
            "Non-trainable params: 0\n",
            "_________________________________________________________________\n"
          ]
        }
      ],
      "source": [
        "model.summary()"
      ]
    },
    {
      "cell_type": "code",
      "execution_count": null,
      "metadata": {
        "pycharm": {
          "name": "#%%\n"
        },
        "colab": {
          "base_uri": "https://localhost:8080/"
        },
        "id": "_iW-qE5Uma7I",
        "outputId": "bcd7c37d-82c2-4597-f777-0512a424617e"
      },
      "outputs": [
        {
          "output_type": "stream",
          "name": "stdout",
          "text": [
            "Epoch 1/100\n",
            "34/34 [==============================] - 21s 345ms/step - loss: 0.0027 - val_loss: 0.0038\n",
            "Epoch 2/100\n",
            "34/34 [==============================] - 13s 391ms/step - loss: 7.3452e-05 - val_loss: 0.0010\n",
            "Epoch 3/100\n",
            "34/34 [==============================] - 25s 736ms/step - loss: 4.5556e-05 - val_loss: 0.0014\n",
            "Epoch 4/100\n",
            "34/34 [==============================] - 21s 601ms/step - loss: 4.3160e-05 - val_loss: 0.0023\n",
            "Epoch 5/100\n",
            "34/34 [==============================] - 12s 348ms/step - loss: 3.4739e-05 - val_loss: 0.0030\n",
            "Epoch 6/100\n",
            "34/34 [==============================] - 11s 322ms/step - loss: 4.3836e-05 - val_loss: 0.0033\n",
            "Epoch 7/100\n",
            "34/34 [==============================] - 11s 322ms/step - loss: 3.4305e-05 - val_loss: 0.0037\n",
            "Epoch 8/100\n",
            "34/34 [==============================] - 11s 324ms/step - loss: 3.6226e-05 - val_loss: 0.0031\n",
            "Epoch 9/100\n",
            "34/34 [==============================] - 11s 322ms/step - loss: 3.4339e-05 - val_loss: 0.0036\n",
            "Epoch 10/100\n",
            "34/34 [==============================] - 11s 322ms/step - loss: 3.3349e-05 - val_loss: 0.0031\n",
            "Epoch 11/100\n",
            "34/34 [==============================] - 11s 324ms/step - loss: 3.3992e-05 - val_loss: 0.0034\n",
            "Epoch 12/100\n",
            "34/34 [==============================] - 12s 343ms/step - loss: 3.4899e-05 - val_loss: 0.0043\n",
            "Epoch 13/100\n",
            "34/34 [==============================] - 11s 321ms/step - loss: 2.0860e-04 - val_loss: 0.0038\n",
            "Epoch 14/100\n",
            "34/34 [==============================] - 11s 323ms/step - loss: 3.9607e-05 - val_loss: 0.0046\n",
            "Epoch 15/100\n",
            "34/34 [==============================] - 12s 348ms/step - loss: 3.2256e-05 - val_loss: 0.0051\n",
            "Epoch 16/100\n",
            "34/34 [==============================] - 12s 368ms/step - loss: 3.9346e-05 - val_loss: 0.0052\n",
            "Epoch 17/100\n",
            "34/34 [==============================] - 11s 323ms/step - loss: 3.9352e-05 - val_loss: 0.0041\n",
            "Epoch 18/100\n",
            "34/34 [==============================] - 11s 321ms/step - loss: 3.4531e-05 - val_loss: 0.0022\n",
            "Epoch 19/100\n",
            "34/34 [==============================] - 11s 323ms/step - loss: 3.3587e-05 - val_loss: 0.0029\n",
            "Epoch 20/100\n",
            "34/34 [==============================] - 11s 322ms/step - loss: 3.9333e-05 - val_loss: 0.0044\n",
            "Epoch 21/100\n",
            "34/34 [==============================] - 11s 324ms/step - loss: 3.6393e-05 - val_loss: 0.0012\n",
            "Epoch 22/100\n",
            "34/34 [==============================] - 11s 324ms/step - loss: 5.8920e-05 - val_loss: 0.0026\n",
            "Epoch 23/100\n",
            "34/34 [==============================] - 11s 322ms/step - loss: 3.4232e-05 - val_loss: 0.0026\n",
            "Epoch 24/100\n",
            "34/34 [==============================] - 12s 350ms/step - loss: 3.4172e-05 - val_loss: 0.0116\n",
            "Epoch 25/100\n",
            "34/34 [==============================] - 11s 322ms/step - loss: 1.2293e-04 - val_loss: 0.0025\n",
            "Epoch 26/100\n",
            "34/34 [==============================] - 11s 322ms/step - loss: 3.1772e-05 - val_loss: 0.0026\n",
            "Epoch 27/100\n",
            "34/34 [==============================] - 11s 324ms/step - loss: 3.1340e-05 - val_loss: 0.0015\n",
            "Epoch 28/100\n",
            "34/34 [==============================] - 11s 324ms/step - loss: 3.1628e-05 - val_loss: 0.0028\n",
            "Epoch 29/100\n",
            "34/34 [==============================] - 11s 325ms/step - loss: 3.2862e-05 - val_loss: 0.0028\n",
            "Epoch 30/100\n",
            "34/34 [==============================] - 11s 327ms/step - loss: 2.8108e-05 - val_loss: 0.0024\n",
            "Epoch 31/100\n",
            "34/34 [==============================] - 11s 326ms/step - loss: 3.0330e-05 - val_loss: 0.0034\n",
            "Epoch 32/100\n",
            "34/34 [==============================] - 11s 325ms/step - loss: 3.5380e-05 - val_loss: 0.0013\n",
            "Epoch 33/100\n",
            "34/34 [==============================] - 11s 324ms/step - loss: 3.0371e-05 - val_loss: 0.0025\n",
            "Epoch 34/100\n",
            "34/34 [==============================] - 11s 327ms/step - loss: 2.8203e-05 - val_loss: 0.0022\n",
            "Epoch 35/100\n",
            "34/34 [==============================] - 11s 326ms/step - loss: 2.8627e-05 - val_loss: 0.0019\n",
            "Epoch 36/100\n",
            "34/34 [==============================] - 11s 324ms/step - loss: 2.7084e-05 - val_loss: 0.0024\n",
            "Epoch 37/100\n",
            "34/34 [==============================] - 11s 326ms/step - loss: 2.9178e-05 - val_loss: 0.0296\n",
            "Epoch 38/100\n",
            "34/34 [==============================] - 11s 327ms/step - loss: 3.8452e-04 - val_loss: 0.0032\n",
            "Epoch 39/100\n",
            "34/34 [==============================] - 11s 327ms/step - loss: 3.3910e-05 - val_loss: 0.0022\n",
            "Epoch 40/100\n",
            "34/34 [==============================] - 11s 326ms/step - loss: 2.7979e-05 - val_loss: 0.0027\n",
            "Epoch 41/100\n",
            "34/34 [==============================] - 11s 326ms/step - loss: 2.5706e-05 - val_loss: 9.8899e-04\n",
            "Epoch 42/100\n",
            "34/34 [==============================] - 11s 325ms/step - loss: 1.0472e-04 - val_loss: 0.0025\n",
            "Epoch 43/100\n",
            "34/34 [==============================] - 11s 326ms/step - loss: 2.8701e-05 - val_loss: 0.0013\n",
            "Epoch 44/100\n",
            "34/34 [==============================] - 11s 326ms/step - loss: 3.6922e-05 - val_loss: 0.0034\n",
            "Epoch 45/100\n",
            "34/34 [==============================] - 11s 327ms/step - loss: 3.8886e-05 - val_loss: 0.0011\n",
            "Epoch 46/100\n",
            "34/34 [==============================] - 11s 327ms/step - loss: 2.8022e-05 - val_loss: 0.0021\n",
            "Epoch 47/100\n",
            "34/34 [==============================] - 11s 325ms/step - loss: 2.6329e-05 - val_loss: 0.0021\n",
            "Epoch 48/100\n",
            "34/34 [==============================] - 11s 326ms/step - loss: 2.5341e-05 - val_loss: 0.0017\n",
            "Epoch 49/100\n",
            "34/34 [==============================] - 11s 326ms/step - loss: 2.5778e-05 - val_loss: 0.0017\n",
            "Epoch 50/100\n",
            "34/34 [==============================] - 11s 327ms/step - loss: 2.4754e-05 - val_loss: 0.0019\n",
            "Epoch 51/100\n",
            "34/34 [==============================] - 11s 327ms/step - loss: 2.9150e-05 - val_loss: 0.0026\n",
            "Epoch 52/100\n",
            "34/34 [==============================] - 11s 327ms/step - loss: 2.5526e-05 - val_loss: 0.0012\n",
            "Epoch 53/100\n",
            "34/34 [==============================] - 11s 327ms/step - loss: 2.6414e-05 - val_loss: 0.0055\n",
            "Epoch 54/100\n",
            "34/34 [==============================] - 11s 328ms/step - loss: 5.1252e-05 - val_loss: 0.0024\n",
            "Epoch 55/100\n",
            "34/34 [==============================] - 11s 325ms/step - loss: 2.6276e-05 - val_loss: 0.0013\n",
            "Epoch 56/100\n",
            "34/34 [==============================] - 11s 325ms/step - loss: 2.7666e-05 - val_loss: 0.0034\n",
            "Epoch 57/100\n",
            "34/34 [==============================] - 11s 325ms/step - loss: 2.9366e-05 - val_loss: 0.0015\n",
            "Epoch 58/100\n",
            "34/34 [==============================] - 11s 326ms/step - loss: 2.4081e-05 - val_loss: 0.0013\n",
            "Epoch 59/100\n",
            "34/34 [==============================] - 11s 326ms/step - loss: 2.5089e-05 - val_loss: 8.9342e-04\n",
            "Epoch 60/100\n",
            "34/34 [==============================] - 11s 326ms/step - loss: 2.4355e-05 - val_loss: 0.0014\n",
            "Epoch 61/100\n",
            "34/34 [==============================] - 11s 326ms/step - loss: 2.3603e-05 - val_loss: 0.0015\n",
            "Epoch 62/100\n",
            "34/34 [==============================] - 11s 326ms/step - loss: 2.4861e-05 - val_loss: 0.0018\n",
            "Epoch 63/100\n",
            "34/34 [==============================] - 11s 324ms/step - loss: 2.2667e-05 - val_loss: 0.0017\n",
            "Epoch 64/100\n",
            "34/34 [==============================] - 11s 325ms/step - loss: 2.3004e-05 - val_loss: 8.3215e-04\n",
            "Epoch 65/100\n",
            "34/34 [==============================] - 11s 326ms/step - loss: 2.8526e-05 - val_loss: 0.0020\n",
            "Epoch 66/100\n",
            "34/34 [==============================] - 11s 328ms/step - loss: 2.2392e-05 - val_loss: 0.0012\n",
            "Epoch 67/100\n",
            "34/34 [==============================] - 11s 326ms/step - loss: 2.3298e-05 - val_loss: 0.0013\n",
            "Epoch 68/100\n",
            "34/34 [==============================] - 11s 329ms/step - loss: 2.2416e-05 - val_loss: 0.0017\n",
            "Epoch 69/100\n",
            "34/34 [==============================] - 11s 326ms/step - loss: 2.2564e-05 - val_loss: 7.9678e-04\n",
            "Epoch 70/100\n",
            "34/34 [==============================] - 11s 327ms/step - loss: 2.4013e-05 - val_loss: 0.0019\n",
            "Epoch 71/100\n",
            "34/34 [==============================] - 11s 327ms/step - loss: 2.5786e-05 - val_loss: 5.8329e-04\n",
            "Epoch 72/100\n",
            "34/34 [==============================] - 11s 328ms/step - loss: 2.5858e-05 - val_loss: 0.0013\n",
            "Epoch 73/100\n",
            "34/34 [==============================] - 11s 326ms/step - loss: 2.4096e-05 - val_loss: 9.7316e-04\n",
            "Epoch 74/100\n",
            "34/34 [==============================] - 11s 324ms/step - loss: 2.2823e-05 - val_loss: 6.7709e-04\n",
            "Epoch 75/100\n",
            "34/34 [==============================] - 11s 324ms/step - loss: 3.0622e-05 - val_loss: 8.0327e-04\n",
            "Epoch 76/100\n",
            "34/34 [==============================] - 11s 325ms/step - loss: 2.4792e-05 - val_loss: 0.0052\n",
            "Epoch 77/100\n",
            "34/34 [==============================] - 11s 325ms/step - loss: 4.9444e-05 - val_loss: 8.5322e-04\n",
            "Epoch 78/100\n",
            "34/34 [==============================] - 11s 326ms/step - loss: 2.1398e-05 - val_loss: 0.0015\n",
            "Epoch 79/100\n",
            "34/34 [==============================] - 11s 325ms/step - loss: 2.3702e-05 - val_loss: 8.2376e-04\n",
            "Epoch 80/100\n",
            "34/34 [==============================] - 11s 326ms/step - loss: 2.5028e-05 - val_loss: 7.8592e-04\n",
            "Epoch 81/100\n",
            "34/34 [==============================] - 11s 327ms/step - loss: 2.4234e-05 - val_loss: 0.0034\n",
            "Epoch 82/100\n",
            "34/34 [==============================] - 11s 326ms/step - loss: 3.6049e-05 - val_loss: 0.0027\n",
            "Epoch 83/100\n",
            "34/34 [==============================] - 11s 326ms/step - loss: 3.8549e-05 - val_loss: 6.9053e-04\n",
            "Epoch 84/100\n",
            "34/34 [==============================] - 11s 326ms/step - loss: 2.1556e-05 - val_loss: 0.0010\n",
            "Epoch 85/100\n",
            "34/34 [==============================] - 11s 325ms/step - loss: 1.9705e-05 - val_loss: 0.0013\n",
            "Epoch 86/100\n",
            "34/34 [==============================] - 11s 326ms/step - loss: 2.1503e-05 - val_loss: 0.0010\n",
            "Epoch 87/100\n",
            "34/34 [==============================] - 11s 325ms/step - loss: 2.0588e-05 - val_loss: 0.0013\n",
            "Epoch 88/100\n",
            "34/34 [==============================] - 11s 325ms/step - loss: 2.2081e-05 - val_loss: 0.0013\n",
            "Epoch 89/100\n",
            "34/34 [==============================] - 11s 326ms/step - loss: 2.5426e-05 - val_loss: 5.8117e-04\n",
            "Epoch 90/100\n",
            "34/34 [==============================] - 11s 325ms/step - loss: 2.2504e-05 - val_loss: 5.5273e-04\n",
            "Epoch 91/100\n",
            "34/34 [==============================] - 11s 326ms/step - loss: 2.1047e-05 - val_loss: 0.0010\n",
            "Epoch 92/100\n",
            "34/34 [==============================] - 11s 327ms/step - loss: 2.3163e-05 - val_loss: 0.0014\n",
            "Epoch 93/100\n",
            "34/34 [==============================] - 11s 326ms/step - loss: 2.0539e-05 - val_loss: 9.0292e-04\n",
            "Epoch 94/100\n",
            "34/34 [==============================] - 11s 327ms/step - loss: 2.1065e-05 - val_loss: 0.0012\n",
            "Epoch 95/100\n",
            "34/34 [==============================] - 11s 328ms/step - loss: 1.9575e-05 - val_loss: 0.0015\n",
            "Epoch 96/100\n",
            "34/34 [==============================] - 11s 327ms/step - loss: 2.6109e-05 - val_loss: 0.0018\n",
            "Epoch 97/100\n",
            "34/34 [==============================] - 11s 326ms/step - loss: 2.0478e-05 - val_loss: 0.0029\n",
            "Epoch 98/100\n",
            "34/34 [==============================] - 11s 327ms/step - loss: 2.0702e-05 - val_loss: 7.6278e-04\n",
            "Epoch 99/100\n",
            "34/34 [==============================] - 11s 325ms/step - loss: 2.0581e-05 - val_loss: 8.6214e-04\n",
            "Epoch 100/100\n",
            "34/34 [==============================] - 11s 327ms/step - loss: 1.8282e-05 - val_loss: 9.2970e-04\n"
          ]
        },
        {
          "output_type": "execute_result",
          "data": {
            "text/plain": [
              "<tensorflow.python.keras.callbacks.History at 0x7f56e83285d0>"
            ]
          },
          "metadata": {},
          "execution_count": 16
        }
      ],
      "source": [
        "model.fit(X_train,y_train,validation_data=(X_test,y_test),epochs=100,batch_size=64,verbose=1)"
      ]
    },
    {
      "cell_type": "code",
      "execution_count": null,
      "outputs": [],
      "source": [
        "# Prediction and check performances\n",
        "train_predict=model.predict(X_train)\n",
        "test_predict=model.predict(X_test)"
      ],
      "metadata": {
        "pycharm": {
          "name": "#%%\n"
        },
        "id": "l2ByaWuuma7I"
      }
    },
    {
      "cell_type": "code",
      "execution_count": null,
      "outputs": [],
      "source": [
        "# Inverse transform to original close price\n",
        "train_predict=scaler.inverse_transform(train_predict)\n",
        "test_predict=scaler.inverse_transform(test_predict)"
      ],
      "metadata": {
        "pycharm": {
          "name": "#%%\n"
        },
        "id": "XO7aiaX2ma7J"
      }
    },
    {
      "cell_type": "code",
      "execution_count": null,
      "outputs": [
        {
          "output_type": "execute_result",
          "data": {
            "text/plain": [
              "7.341352247771015"
            ]
          },
          "metadata": {},
          "execution_count": 20
        }
      ],
      "source": [
        "# # Calculate RMSE performance metrics\n",
        "# import math\n",
        "# from sklearn.metrics import mean_squared_error\n",
        "# math.sqrt(mean_squared_error(y_train,train_predict))\n",
        "import math\n",
        "from sklearn.metrics import mean_absolute_error, accuracy_score\n",
        "# accuracy_score(y_train, train_predict) \n",
        "math.sqrt(mean_absolute_error(y_train,train_predict))"
      ],
      "metadata": {
        "pycharm": {
          "name": "#%%\n"
        },
        "colab": {
          "base_uri": "https://localhost:8080/"
        },
        "id": "s5d0lwU1ma7J",
        "outputId": "a99fe6e9-f97a-4b73-8d59-0b8dbfcec5fa"
      }
    },
    {
      "cell_type": "code",
      "execution_count": null,
      "outputs": [
        {
          "output_type": "execute_result",
          "data": {
            "text/plain": [
              "15.241393611769825"
            ]
          },
          "metadata": {},
          "execution_count": 21
        }
      ],
      "source": [
        "# Test Data MAE\n",
        "math.sqrt(mean_absolute_error(y_test,test_predict))"
      ],
      "metadata": {
        "pycharm": {
          "name": "#%%\n"
        },
        "colab": {
          "base_uri": "https://localhost:8080/"
        },
        "id": "edY8oNLMma7J",
        "outputId": "ac95e7ad-3e1c-433e-8577-08058ed76582"
      }
    },
    {
      "cell_type": "code",
      "source": [
        "# from sklearn.metrics import accuracy_score\n",
        "# accuracy_score(y_true, y_pred, normalize = False)\n",
        "# print('Test accuracy: {:4f}'.format(results[1]))\n",
        "# clf = DecisionTreeClassifier(max_depth=3).fit(X_train,Y_train)\n",
        "# clf.score(y_test, test_predict)"
      ],
      "metadata": {
        "id": "swPAi6lFKR0h"
      },
      "execution_count": null,
      "outputs": []
    },
    {
      "cell_type": "code",
      "execution_count": null,
      "outputs": [
        {
          "output_type": "display_data",
          "data": {
            "image/png": "[encoded data removed]",
            "text/plain": [
              "<Figure size 432x288 with 1 Axes>"
            ]
          },
          "metadata": {
            "needs_background": "light"
          }
        }
      ],
      "source": [
        "### Plotting\n",
        "# shift train predictions for plotting\n",
        "look_back=100\n",
        "trainPredictPlot = np.empty_like(df)\n",
        "trainPredictPlot[:, :] = np.nan\n",
        "trainPredictPlot[look_back:len(train_predict)+look_back, :] = train_predict\n",
        "# shift test predictions for plotting\n",
        "testPredictPlot = np.empty_like(df)\n",
        "testPredictPlot[:, :] = np.nan\n",
        "testPredictPlot[len(train_predict)+(look_back*2)+1:len(df)-1, :] = test_predict\n",
        "# plot baseline and predictions\n",
        "plt.plot(scaler.inverse_transform(df))\n",
        "plt.plot(trainPredictPlot)\n",
        "plt.plot(testPredictPlot)\n",
        "plt.show()"
      ],
      "metadata": {
        "pycharm": {
          "name": "#%%\n"
        },
        "colab": {
          "base_uri": "https://localhost:8080/",
          "height": 265
        },
        "id": "qcsLaUjLma7K",
        "outputId": "7f5cee11-35e9-4fac-ac1c-7ef4ae04a79c"
      }
    },
    {
      "cell_type": "code",
      "execution_count": null,
      "outputs": [
        {
          "output_type": "execute_result",
          "data": {
            "text/plain": [
              "554"
            ]
          },
          "metadata": {},
          "execution_count": 24
        }
      ],
      "source": [
        "len(test_data)"
      ],
      "metadata": {
        "pycharm": {
          "name": "#%%\n"
        },
        "colab": {
          "base_uri": "https://localhost:8080/"
        },
        "id": "NsSm4RfYma7K",
        "outputId": "4c86ff7c-e74a-43d4-e874-58a9ab6ccb53"
      }
    },
    {
      "cell_type": "code",
      "execution_count": null,
      "outputs": [
        {
          "output_type": "execute_result",
          "data": {
            "text/plain": [
              "array([[0.82189199, 0.82345938, 0.83224859, 0.84159096, 0.84696912,\n",
              "        0.84229784, 0.83678639, 0.85538376, 0.8787538 , 0.87964678,\n",
              "        0.87339626, 0.87151813, 0.86252727, 0.86446706, 0.87638295,\n",
              "        0.87111786, 0.87096385, 0.86887005, 0.86883936, 0.86588335,\n",
              "        0.8659757 , 0.85686181, 0.85212002, 0.85606117, 0.86468263,\n",
              "        0.88017028, 0.88140188, 0.8649289 , 0.84777851, 0.84931803,\n",
              "        0.86095687, 0.86397435, 0.86332781, 0.84737833, 0.81458629,\n",
              "        0.81606424, 0.8096599 , 0.83176746, 0.81332391, 0.83072065,\n",
              "        0.8441144 , 0.84947204, 0.84947204, 0.84756303, 0.8434063 ,\n",
              "        0.85396746, 0.87379653, 0.87829196, 0.88777553, 0.89066987,\n",
              "        0.88814502, 0.89845982, 0.89353334, 0.89036195, 0.89645837,\n",
              "        0.93667097, 0.9403042 , 0.9626889 , 0.95576106, 0.96733834,\n",
              "        0.97001701, 0.97752992, 0.97635988, 0.97922344, 0.97602127,\n",
              "        0.96016404, 0.96518288, 0.97839212, 0.97639076, 0.9869827 ,\n",
              "        0.98769212, 0.99432418, 1.        , 0.98988223, 0.98325016,\n",
              "        0.98395968, 0.95857265, 0.98001128, 0.96137973, 0.95980651,\n",
              "        0.95798656, 0.93799783, 0.94780712, 0.97473649, 0.97489068,\n",
              "        0.96912233, 0.9982418 , 0.98855583, 0.95443918, 0.97390356,\n",
              "        0.94382785, 0.94043467, 0.92843528, 0.9512003 , 0.96943082,\n",
              "        0.97402697, 0.99796419, 0.99426252, 0.99642184, 0.9883091 ]])"
            ]
          },
          "metadata": {},
          "execution_count": 25
        }
      ],
      "source": [
        "x_input=test_data[454:].reshape(1,-1)\n",
        "x_input.shape\n",
        "x_input"
      ],
      "metadata": {
        "pycharm": {
          "name": "#%%\n"
        },
        "colab": {
          "base_uri": "https://localhost:8080/"
        },
        "id": "vAkhSZ9_ma7L",
        "outputId": "60e95fa3-5739-422b-bef7-3a2b2b2b3cf7"
      }
    },
    {
      "cell_type": "code",
      "execution_count": null,
      "outputs": [
        {
          "output_type": "execute_result",
          "data": {
            "text/plain": [
              "[0.8218919940673545,\n",
              " 0.8234593788608213,\n",
              " 0.8322485949945649,\n",
              " 0.8415909614614263,\n",
              " 0.8469691152533517,\n",
              " 0.8422978378826962,\n",
              " 0.8367863857804074,\n",
              " 0.8553837593694854,\n",
              " 0.8787537961203638,\n",
              " 0.8796467818351281,\n",
              " 0.8733962583806768,\n",
              " 0.8715181266080366,\n",
              " 0.8625272685387011,\n",
              " 0.8644670601936068,\n",
              " 0.8763829501129483,\n",
              " 0.8711178551280474,\n",
              " 0.8709638466282208,\n",
              " 0.8688700464734885,\n",
              " 0.8688393577381931,\n",
              " 0.8658833547412169,\n",
              " 0.8659757033587779,\n",
              " 0.8568618079365858,\n",
              " 0.8521200217845305,\n",
              " 0.8560611708393825,\n",
              " 0.8646826344384739,\n",
              " 0.8801702789424236,\n",
              " 0.8814018762549117,\n",
              " 0.8649288974186367,\n",
              " 0.8477785071124645,\n",
              " 0.8493180272873808,\n",
              " 0.8609568713540395,\n",
              " 0.8639743459588316,\n",
              " 0.8633278114986797,\n",
              " 0.8473783297697001,\n",
              " 0.8145862864597517,\n",
              " 0.8160642408896274,\n",
              " 0.8096598972097991,\n",
              " 0.8317674596384442,\n",
              " 0.8133239062747432,\n",
              " 0.830720653698303,\n",
              " 0.8441144039102956,\n",
              " 0.8494720357872074,\n",
              " 0.8494720357872074,\n",
              " 0.8475630270048221,\n",
              " 0.8434063037051027,\n",
              " 0.8539674648218751,\n",
              " 0.873796529860666,\n",
              " 0.8782919588953338,\n",
              " 0.8877755311994444,\n",
              " 0.8906698743141551,\n",
              " 0.8881450198069134,\n",
              " 0.8984598238062981,\n",
              " 0.8935333404191207,\n",
              " 0.8903619514517267,\n",
              " 0.896458372269127,\n",
              " 0.9366709706009742,\n",
              " 0.9403041967933978,\n",
              " 0.9626888992119508,\n",
              " 0.9557610584248272,\n",
              " 0.9673383367464451,\n",
              " 0.9700170114790637,\n",
              " 0.9775299151185236,\n",
              " 0.9763598835510762,\n",
              " 0.9792234437932666,\n",
              " 0.9760212719533524,\n",
              " 0.960164044704709,\n",
              " 0.9651828767094474,\n",
              " 0.9783921179607676,\n",
              " 0.9763907605608214,\n",
              " 0.9869827045501139,\n",
              " 0.9876921226764542,\n",
              " 0.9943241843031531,\n",
              " 1.0,\n",
              " 0.9898822252121905,\n",
              " 0.9832501635854917,\n",
              " 0.9839596758490566,\n",
              " 0.9585726549189099,\n",
              " 0.9800112782278926,\n",
              " 0.9613797328262005,\n",
              " 0.9598065115247939,\n",
              " 0.9579865565571005,\n",
              " 0.9379978347849931,\n",
              " 0.9478071218870253,\n",
              " 0.9747364871088336,\n",
              " 0.9748906838831098,\n",
              " 0.9691223312942524,\n",
              " 0.998241799051797,\n",
              " 0.9885558317142956,\n",
              " 0.9544391835137244,\n",
              " 0.9739035609435126,\n",
              " 0.943827847256116,\n",
              " 0.9404346709870162,\n",
              " 0.9284352813492477,\n",
              " 0.9512002981561253,\n",
              " 0.9694308189800297,\n",
              " 0.9740269748452685,\n",
              " 0.997964188375765,\n",
              " 0.9942625244208877,\n",
              " 0.9964218440841034,\n",
              " 0.9883090980480088]"
            ]
          },
          "metadata": {},
          "execution_count": 27
        }
      ],
      "source": [
        "temp_input=list(x_input)\n",
        "temp_input=temp_input[0].tolist()\n",
        "temp_input"
      ],
      "metadata": {
        "pycharm": {
          "name": "#%%\n"
        },
        "colab": {
          "base_uri": "https://localhost:8080/"
        },
        "id": "9bPUBQLfma7L",
        "outputId": "2962d514-dc8f-4b50-cdde-68b023ceb484"
      }
    },
    {
      "cell_type": "code",
      "execution_count": null,
      "outputs": [
        {
          "output_type": "stream",
          "name": "stdout",
          "text": [
            "[0.9362822]\n",
            "101\n",
            "1 day input [0.82345938 0.83224859 0.84159096 0.84696912 0.84229784 0.83678639\n",
            " 0.85538376 0.8787538  0.87964678 0.87339626 0.87151813 0.86252727\n",
            " 0.86446706 0.87638295 0.87111786 0.87096385 0.86887005 0.86883936\n",
            " 0.86588335 0.8659757  0.85686181 0.85212002 0.85606117 0.86468263\n",
            " 0.88017028 0.88140188 0.8649289  0.84777851 0.84931803 0.86095687\n",
            " 0.86397435 0.86332781 0.84737833 0.81458629 0.81606424 0.8096599\n",
            " 0.83176746 0.81332391 0.83072065 0.8441144  0.84947204 0.84947204\n",
            " 0.84756303 0.8434063  0.85396746 0.87379653 0.87829196 0.88777553\n",
            " 0.89066987 0.88814502 0.89845982 0.89353334 0.89036195 0.89645837\n",
            " 0.93667097 0.9403042  0.9626889  0.95576106 0.96733834 0.97001701\n",
            " 0.97752992 0.97635988 0.97922344 0.97602127 0.96016404 0.96518288\n",
            " 0.97839212 0.97639076 0.9869827  0.98769212 0.99432418 1.\n",
            " 0.98988223 0.98325016 0.98395968 0.95857265 0.98001128 0.96137973\n",
            " 0.95980651 0.95798656 0.93799783 0.94780712 0.97473649 0.97489068\n",
            " 0.96912233 0.9982418  0.98855583 0.95443918 0.97390356 0.94382785\n",
            " 0.94043467 0.92843528 0.9512003  0.96943082 0.97402697 0.99796419\n",
            " 0.99426252 0.99642184 0.9883091  0.93628222]\n",
            "1 day output [[0.9334445]]\n",
            "2 day input [0.83224859 0.84159096 0.84696912 0.84229784 0.83678639 0.85538376\n",
            " 0.8787538  0.87964678 0.87339626 0.87151813 0.86252727 0.86446706\n",
            " 0.87638295 0.87111786 0.87096385 0.86887005 0.86883936 0.86588335\n",
            " 0.8659757  0.85686181 0.85212002 0.85606117 0.86468263 0.88017028\n",
            " 0.88140188 0.8649289  0.84777851 0.84931803 0.86095687 0.86397435\n",
            " 0.86332781 0.84737833 0.81458629 0.81606424 0.8096599  0.83176746\n",
            " 0.81332391 0.83072065 0.8441144  0.84947204 0.84947204 0.84756303\n",
            " 0.8434063  0.85396746 0.87379653 0.87829196 0.88777553 0.89066987\n",
            " 0.88814502 0.89845982 0.89353334 0.89036195 0.89645837 0.93667097\n",
            " 0.9403042  0.9626889  0.95576106 0.96733834 0.97001701 0.97752992\n",
            " 0.97635988 0.97922344 0.97602127 0.96016404 0.96518288 0.97839212\n",
            " 0.97639076 0.9869827  0.98769212 0.99432418 1.         0.98988223\n",
            " 0.98325016 0.98395968 0.95857265 0.98001128 0.96137973 0.95980651\n",
            " 0.95798656 0.93799783 0.94780712 0.97473649 0.97489068 0.96912233\n",
            " 0.9982418  0.98855583 0.95443918 0.97390356 0.94382785 0.94043467\n",
            " 0.92843528 0.9512003  0.96943082 0.97402697 0.99796419 0.99426252\n",
            " 0.99642184 0.9883091  0.93628222 0.9334445 ]\n",
            "2 day output [[0.9243516]]\n",
            "3 day input [0.84159096 0.84696912 0.84229784 0.83678639 0.85538376 0.8787538\n",
            " 0.87964678 0.87339626 0.87151813 0.86252727 0.86446706 0.87638295\n",
            " 0.87111786 0.87096385 0.86887005 0.86883936 0.86588335 0.8659757\n",
            " 0.85686181 0.85212002 0.85606117 0.86468263 0.88017028 0.88140188\n",
            " 0.8649289  0.84777851 0.84931803 0.86095687 0.86397435 0.86332781\n",
            " 0.84737833 0.81458629 0.81606424 0.8096599  0.83176746 0.81332391\n",
            " 0.83072065 0.8441144  0.84947204 0.84947204 0.84756303 0.8434063\n",
            " 0.85396746 0.87379653 0.87829196 0.88777553 0.89066987 0.88814502\n",
            " 0.89845982 0.89353334 0.89036195 0.89645837 0.93667097 0.9403042\n",
            " 0.9626889  0.95576106 0.96733834 0.97001701 0.97752992 0.97635988\n",
            " 0.97922344 0.97602127 0.96016404 0.96518288 0.97839212 0.97639076\n",
            " 0.9869827  0.98769212 0.99432418 1.         0.98988223 0.98325016\n",
            " 0.98395968 0.95857265 0.98001128 0.96137973 0.95980651 0.95798656\n",
            " 0.93799783 0.94780712 0.97473649 0.97489068 0.96912233 0.9982418\n",
            " 0.98855583 0.95443918 0.97390356 0.94382785 0.94043467 0.92843528\n",
            " 0.9512003  0.96943082 0.97402697 0.99796419 0.99426252 0.99642184\n",
            " 0.9883091  0.93628222 0.9334445  0.92435157]\n",
            "3 day output [[0.9119425]]\n",
            "4 day input [0.84696912 0.84229784 0.83678639 0.85538376 0.8787538  0.87964678\n",
            " 0.87339626 0.87151813 0.86252727 0.86446706 0.87638295 0.87111786\n",
            " 0.87096385 0.86887005 0.86883936 0.86588335 0.8659757  0.85686181\n",
            " 0.85212002 0.85606117 0.86468263 0.88017028 0.88140188 0.8649289\n",
            " 0.84777851 0.84931803 0.86095687 0.86397435 0.86332781 0.84737833\n",
            " 0.81458629 0.81606424 0.8096599  0.83176746 0.81332391 0.83072065\n",
            " 0.8441144  0.84947204 0.84947204 0.84756303 0.8434063  0.85396746\n",
            " 0.87379653 0.87829196 0.88777553 0.89066987 0.88814502 0.89845982\n",
            " 0.89353334 0.89036195 0.89645837 0.93667097 0.9403042  0.9626889\n",
            " 0.95576106 0.96733834 0.97001701 0.97752992 0.97635988 0.97922344\n",
            " 0.97602127 0.96016404 0.96518288 0.97839212 0.97639076 0.9869827\n",
            " 0.98769212 0.99432418 1.         0.98988223 0.98325016 0.98395968\n",
            " 0.95857265 0.98001128 0.96137973 0.95980651 0.95798656 0.93799783\n",
            " 0.94780712 0.97473649 0.97489068 0.96912233 0.9982418  0.98855583\n",
            " 0.95443918 0.97390356 0.94382785 0.94043467 0.92843528 0.9512003\n",
            " 0.96943082 0.97402697 0.99796419 0.99426252 0.99642184 0.9883091\n",
            " 0.93628222 0.9334445  0.92435157 0.91194248]\n",
            "4 day output [[0.8983541]]\n",
            "5 day input [0.84229784 0.83678639 0.85538376 0.8787538  0.87964678 0.87339626\n",
            " 0.87151813 0.86252727 0.86446706 0.87638295 0.87111786 0.87096385\n",
            " 0.86887005 0.86883936 0.86588335 0.8659757  0.85686181 0.85212002\n",
            " 0.85606117 0.86468263 0.88017028 0.88140188 0.8649289  0.84777851\n",
            " 0.84931803 0.86095687 0.86397435 0.86332781 0.84737833 0.81458629\n",
            " 0.81606424 0.8096599  0.83176746 0.81332391 0.83072065 0.8441144\n",
            " 0.84947204 0.84947204 0.84756303 0.8434063  0.85396746 0.87379653\n",
            " 0.87829196 0.88777553 0.89066987 0.88814502 0.89845982 0.89353334\n",
            " 0.89036195 0.89645837 0.93667097 0.9403042  0.9626889  0.95576106\n",
            " 0.96733834 0.97001701 0.97752992 0.97635988 0.97922344 0.97602127\n",
            " 0.96016404 0.96518288 0.97839212 0.97639076 0.9869827  0.98769212\n",
            " 0.99432418 1.         0.98988223 0.98325016 0.98395968 0.95857265\n",
            " 0.98001128 0.96137973 0.95980651 0.95798656 0.93799783 0.94780712\n",
            " 0.97473649 0.97489068 0.96912233 0.9982418  0.98855583 0.95443918\n",
            " 0.97390356 0.94382785 0.94043467 0.92843528 0.9512003  0.96943082\n",
            " 0.97402697 0.99796419 0.99426252 0.99642184 0.9883091  0.93628222\n",
            " 0.9334445  0.92435157 0.91194248 0.89835411]\n",
            "5 day output [[0.88482726]]\n",
            "6 day input [0.83678639 0.85538376 0.8787538  0.87964678 0.87339626 0.87151813\n",
            " 0.86252727 0.86446706 0.87638295 0.87111786 0.87096385 0.86887005\n",
            " 0.86883936 0.86588335 0.8659757  0.85686181 0.85212002 0.85606117\n",
            " 0.86468263 0.88017028 0.88140188 0.8649289  0.84777851 0.84931803\n",
            " 0.86095687 0.86397435 0.86332781 0.84737833 0.81458629 0.81606424\n",
            " 0.8096599  0.83176746 0.81332391 0.83072065 0.8441144  0.84947204\n",
            " 0.84947204 0.84756303 0.8434063  0.85396746 0.87379653 0.87829196\n",
            " 0.88777553 0.89066987 0.88814502 0.89845982 0.89353334 0.89036195\n",
            " 0.89645837 0.93667097 0.9403042  0.9626889  0.95576106 0.96733834\n",
            " 0.97001701 0.97752992 0.97635988 0.97922344 0.97602127 0.96016404\n",
            " 0.96518288 0.97839212 0.97639076 0.9869827  0.98769212 0.99432418\n",
            " 1.         0.98988223 0.98325016 0.98395968 0.95857265 0.98001128\n",
            " 0.96137973 0.95980651 0.95798656 0.93799783 0.94780712 0.97473649\n",
            " 0.97489068 0.96912233 0.9982418  0.98855583 0.95443918 0.97390356\n",
            " 0.94382785 0.94043467 0.92843528 0.9512003  0.96943082 0.97402697\n",
            " 0.99796419 0.99426252 0.99642184 0.9883091  0.93628222 0.9334445\n",
            " 0.92435157 0.91194248 0.89835411 0.88482726]\n",
            "6 day output [[0.8719776]]\n",
            "7 day input [0.85538376 0.8787538  0.87964678 0.87339626 0.87151813 0.86252727\n",
            " 0.86446706 0.87638295 0.87111786 0.87096385 0.86887005 0.86883936\n",
            " 0.86588335 0.8659757  0.85686181 0.85212002 0.85606117 0.86468263\n",
            " 0.88017028 0.88140188 0.8649289  0.84777851 0.84931803 0.86095687\n",
            " 0.86397435 0.86332781 0.84737833 0.81458629 0.81606424 0.8096599\n",
            " 0.83176746 0.81332391 0.83072065 0.8441144  0.84947204 0.84947204\n",
            " 0.84756303 0.8434063  0.85396746 0.87379653 0.87829196 0.88777553\n",
            " 0.89066987 0.88814502 0.89845982 0.89353334 0.89036195 0.89645837\n",
            " 0.93667097 0.9403042  0.9626889  0.95576106 0.96733834 0.97001701\n",
            " 0.97752992 0.97635988 0.97922344 0.97602127 0.96016404 0.96518288\n",
            " 0.97839212 0.97639076 0.9869827  0.98769212 0.99432418 1.\n",
            " 0.98988223 0.98325016 0.98395968 0.95857265 0.98001128 0.96137973\n",
            " 0.95980651 0.95798656 0.93799783 0.94780712 0.97473649 0.97489068\n",
            " 0.96912233 0.9982418  0.98855583 0.95443918 0.97390356 0.94382785\n",
            " 0.94043467 0.92843528 0.9512003  0.96943082 0.97402697 0.99796419\n",
            " 0.99426252 0.99642184 0.9883091  0.93628222 0.9334445  0.92435157\n",
            " 0.91194248 0.89835411 0.88482726 0.87197763]\n",
            "7 day output [[0.8600665]]\n",
            "8 day input [0.8787538  0.87964678 0.87339626 0.87151813 0.86252727 0.86446706\n",
            " 0.87638295 0.87111786 0.87096385 0.86887005 0.86883936 0.86588335\n",
            " 0.8659757  0.85686181 0.85212002 0.85606117 0.86468263 0.88017028\n",
            " 0.88140188 0.8649289  0.84777851 0.84931803 0.86095687 0.86397435\n",
            " 0.86332781 0.84737833 0.81458629 0.81606424 0.8096599  0.83176746\n",
            " 0.81332391 0.83072065 0.8441144  0.84947204 0.84947204 0.84756303\n",
            " 0.8434063  0.85396746 0.87379653 0.87829196 0.88777553 0.89066987\n",
            " 0.88814502 0.89845982 0.89353334 0.89036195 0.89645837 0.93667097\n",
            " 0.9403042  0.9626889  0.95576106 0.96733834 0.97001701 0.97752992\n",
            " 0.97635988 0.97922344 0.97602127 0.96016404 0.96518288 0.97839212\n",
            " 0.97639076 0.9869827  0.98769212 0.99432418 1.         0.98988223\n",
            " 0.98325016 0.98395968 0.95857265 0.98001128 0.96137973 0.95980651\n",
            " 0.95798656 0.93799783 0.94780712 0.97473649 0.97489068 0.96912233\n",
            " 0.9982418  0.98855583 0.95443918 0.97390356 0.94382785 0.94043467\n",
            " 0.92843528 0.9512003  0.96943082 0.97402697 0.99796419 0.99426252\n",
            " 0.99642184 0.9883091  0.93628222 0.9334445  0.92435157 0.91194248\n",
            " 0.89835411 0.88482726 0.87197763 0.86006647]\n",
            "8 day output [[0.84917516]]\n",
            "9 day input [0.87964678 0.87339626 0.87151813 0.86252727 0.86446706 0.87638295\n",
            " 0.87111786 0.87096385 0.86887005 0.86883936 0.86588335 0.8659757\n",
            " 0.85686181 0.85212002 0.85606117 0.86468263 0.88017028 0.88140188\n",
            " 0.8649289  0.84777851 0.84931803 0.86095687 0.86397435 0.86332781\n",
            " 0.84737833 0.81458629 0.81606424 0.8096599  0.83176746 0.81332391\n",
            " 0.83072065 0.8441144  0.84947204 0.84947204 0.84756303 0.8434063\n",
            " 0.85396746 0.87379653 0.87829196 0.88777553 0.89066987 0.88814502\n",
            " 0.89845982 0.89353334 0.89036195 0.89645837 0.93667097 0.9403042\n",
            " 0.9626889  0.95576106 0.96733834 0.97001701 0.97752992 0.97635988\n",
            " 0.97922344 0.97602127 0.96016404 0.96518288 0.97839212 0.97639076\n",
            " 0.9869827  0.98769212 0.99432418 1.         0.98988223 0.98325016\n",
            " 0.98395968 0.95857265 0.98001128 0.96137973 0.95980651 0.95798656\n",
            " 0.93799783 0.94780712 0.97473649 0.97489068 0.96912233 0.9982418\n",
            " 0.98855583 0.95443918 0.97390356 0.94382785 0.94043467 0.92843528\n",
            " 0.9512003  0.96943082 0.97402697 0.99796419 0.99426252 0.99642184\n",
            " 0.9883091  0.93628222 0.9334445  0.92435157 0.91194248 0.89835411\n",
            " 0.88482726 0.87197763 0.86006647 0.84917516]\n",
            "9 day output [[0.83929974]]\n",
            "10 day input [0.87339626 0.87151813 0.86252727 0.86446706 0.87638295 0.87111786\n",
            " 0.87096385 0.86887005 0.86883936 0.86588335 0.8659757  0.85686181\n",
            " 0.85212002 0.85606117 0.86468263 0.88017028 0.88140188 0.8649289\n",
            " 0.84777851 0.84931803 0.86095687 0.86397435 0.86332781 0.84737833\n",
            " 0.81458629 0.81606424 0.8096599  0.83176746 0.81332391 0.83072065\n",
            " 0.8441144  0.84947204 0.84947204 0.84756303 0.8434063  0.85396746\n",
            " 0.87379653 0.87829196 0.88777553 0.89066987 0.88814502 0.89845982\n",
            " 0.89353334 0.89036195 0.89645837 0.93667097 0.9403042  0.9626889\n",
            " 0.95576106 0.96733834 0.97001701 0.97752992 0.97635988 0.97922344\n",
            " 0.97602127 0.96016404 0.96518288 0.97839212 0.97639076 0.9869827\n",
            " 0.98769212 0.99432418 1.         0.98988223 0.98325016 0.98395968\n",
            " 0.95857265 0.98001128 0.96137973 0.95980651 0.95798656 0.93799783\n",
            " 0.94780712 0.97473649 0.97489068 0.96912233 0.9982418  0.98855583\n",
            " 0.95443918 0.97390356 0.94382785 0.94043467 0.92843528 0.9512003\n",
            " 0.96943082 0.97402697 0.99796419 0.99426252 0.99642184 0.9883091\n",
            " 0.93628222 0.9334445  0.92435157 0.91194248 0.89835411 0.88482726\n",
            " 0.87197763 0.86006647 0.84917516 0.83929974]\n",
            "10 day output [[0.83039004]]\n",
            "11 day input [0.87151813 0.86252727 0.86446706 0.87638295 0.87111786 0.87096385\n",
            " 0.86887005 0.86883936 0.86588335 0.8659757  0.85686181 0.85212002\n",
            " 0.85606117 0.86468263 0.88017028 0.88140188 0.8649289  0.84777851\n",
            " 0.84931803 0.86095687 0.86397435 0.86332781 0.84737833 0.81458629\n",
            " 0.81606424 0.8096599  0.83176746 0.81332391 0.83072065 0.8441144\n",
            " 0.84947204 0.84947204 0.84756303 0.8434063  0.85396746 0.87379653\n",
            " 0.87829196 0.88777553 0.89066987 0.88814502 0.89845982 0.89353334\n",
            " 0.89036195 0.89645837 0.93667097 0.9403042  0.9626889  0.95576106\n",
            " 0.96733834 0.97001701 0.97752992 0.97635988 0.97922344 0.97602127\n",
            " 0.96016404 0.96518288 0.97839212 0.97639076 0.9869827  0.98769212\n",
            " 0.99432418 1.         0.98988223 0.98325016 0.98395968 0.95857265\n",
            " 0.98001128 0.96137973 0.95980651 0.95798656 0.93799783 0.94780712\n",
            " 0.97473649 0.97489068 0.96912233 0.9982418  0.98855583 0.95443918\n",
            " 0.97390356 0.94382785 0.94043467 0.92843528 0.9512003  0.96943082\n",
            " 0.97402697 0.99796419 0.99426252 0.99642184 0.9883091  0.93628222\n",
            " 0.9334445  0.92435157 0.91194248 0.89835411 0.88482726 0.87197763\n",
            " 0.86006647 0.84917516 0.83929974 0.83039004]\n",
            "11 day output [[0.82236975]]\n",
            "12 day input [0.86252727 0.86446706 0.87638295 0.87111786 0.87096385 0.86887005\n",
            " 0.86883936 0.86588335 0.8659757  0.85686181 0.85212002 0.85606117\n",
            " 0.86468263 0.88017028 0.88140188 0.8649289  0.84777851 0.84931803\n",
            " 0.86095687 0.86397435 0.86332781 0.84737833 0.81458629 0.81606424\n",
            " 0.8096599  0.83176746 0.81332391 0.83072065 0.8441144  0.84947204\n",
            " 0.84947204 0.84756303 0.8434063  0.85396746 0.87379653 0.87829196\n",
            " 0.88777553 0.89066987 0.88814502 0.89845982 0.89353334 0.89036195\n",
            " 0.89645837 0.93667097 0.9403042  0.9626889  0.95576106 0.96733834\n",
            " 0.97001701 0.97752992 0.97635988 0.97922344 0.97602127 0.96016404\n",
            " 0.96518288 0.97839212 0.97639076 0.9869827  0.98769212 0.99432418\n",
            " 1.         0.98988223 0.98325016 0.98395968 0.95857265 0.98001128\n",
            " 0.96137973 0.95980651 0.95798656 0.93799783 0.94780712 0.97473649\n",
            " 0.97489068 0.96912233 0.9982418  0.98855583 0.95443918 0.97390356\n",
            " 0.94382785 0.94043467 0.92843528 0.9512003  0.96943082 0.97402697\n",
            " 0.99796419 0.99426252 0.99642184 0.9883091  0.93628222 0.9334445\n",
            " 0.92435157 0.91194248 0.89835411 0.88482726 0.87197763 0.86006647\n",
            " 0.84917516 0.83929974 0.83039004 0.82236975]\n",
            "12 day output [[0.81514597]]\n",
            "13 day input [0.86446706 0.87638295 0.87111786 0.87096385 0.86887005 0.86883936\n",
            " 0.86588335 0.8659757  0.85686181 0.85212002 0.85606117 0.86468263\n",
            " 0.88017028 0.88140188 0.8649289  0.84777851 0.84931803 0.86095687\n",
            " 0.86397435 0.86332781 0.84737833 0.81458629 0.81606424 0.8096599\n",
            " 0.83176746 0.81332391 0.83072065 0.8441144  0.84947204 0.84947204\n",
            " 0.84756303 0.8434063  0.85396746 0.87379653 0.87829196 0.88777553\n",
            " 0.89066987 0.88814502 0.89845982 0.89353334 0.89036195 0.89645837\n",
            " 0.93667097 0.9403042  0.9626889  0.95576106 0.96733834 0.97001701\n",
            " 0.97752992 0.97635988 0.97922344 0.97602127 0.96016404 0.96518288\n",
            " 0.97839212 0.97639076 0.9869827  0.98769212 0.99432418 1.\n",
            " 0.98988223 0.98325016 0.98395968 0.95857265 0.98001128 0.96137973\n",
            " 0.95980651 0.95798656 0.93799783 0.94780712 0.97473649 0.97489068\n",
            " 0.96912233 0.9982418  0.98855583 0.95443918 0.97390356 0.94382785\n",
            " 0.94043467 0.92843528 0.9512003  0.96943082 0.97402697 0.99796419\n",
            " 0.99426252 0.99642184 0.9883091  0.93628222 0.9334445  0.92435157\n",
            " 0.91194248 0.89835411 0.88482726 0.87197763 0.86006647 0.84917516\n",
            " 0.83929974 0.83039004 0.82236975 0.81514597]\n",
            "13 day output [[0.80861497]]\n",
            "14 day input [0.87638295 0.87111786 0.87096385 0.86887005 0.86883936 0.86588335\n",
            " 0.8659757  0.85686181 0.85212002 0.85606117 0.86468263 0.88017028\n",
            " 0.88140188 0.8649289  0.84777851 0.84931803 0.86095687 0.86397435\n",
            " 0.86332781 0.84737833 0.81458629 0.81606424 0.8096599  0.83176746\n",
            " 0.81332391 0.83072065 0.8441144  0.84947204 0.84947204 0.84756303\n",
            " 0.8434063  0.85396746 0.87379653 0.87829196 0.88777553 0.89066987\n",
            " 0.88814502 0.89845982 0.89353334 0.89036195 0.89645837 0.93667097\n",
            " 0.9403042  0.9626889  0.95576106 0.96733834 0.97001701 0.97752992\n",
            " 0.97635988 0.97922344 0.97602127 0.96016404 0.96518288 0.97839212\n",
            " 0.97639076 0.9869827  0.98769212 0.99432418 1.         0.98988223\n",
            " 0.98325016 0.98395968 0.95857265 0.98001128 0.96137973 0.95980651\n",
            " 0.95798656 0.93799783 0.94780712 0.97473649 0.97489068 0.96912233\n",
            " 0.9982418  0.98855583 0.95443918 0.97390356 0.94382785 0.94043467\n",
            " 0.92843528 0.9512003  0.96943082 0.97402697 0.99796419 0.99426252\n",
            " 0.99642184 0.9883091  0.93628222 0.9334445  0.92435157 0.91194248\n",
            " 0.89835411 0.88482726 0.87197763 0.86006647 0.84917516 0.83929974\n",
            " 0.83039004 0.82236975 0.81514597 0.80861497]\n",
            "14 day output [[0.8026695]]\n",
            "15 day input [0.87111786 0.87096385 0.86887005 0.86883936 0.86588335 0.8659757\n",
            " 0.85686181 0.85212002 0.85606117 0.86468263 0.88017028 0.88140188\n",
            " 0.8649289  0.84777851 0.84931803 0.86095687 0.86397435 0.86332781\n",
            " 0.84737833 0.81458629 0.81606424 0.8096599  0.83176746 0.81332391\n",
            " 0.83072065 0.8441144  0.84947204 0.84947204 0.84756303 0.8434063\n",
            " 0.85396746 0.87379653 0.87829196 0.88777553 0.89066987 0.88814502\n",
            " 0.89845982 0.89353334 0.89036195 0.89645837 0.93667097 0.9403042\n",
            " 0.9626889  0.95576106 0.96733834 0.97001701 0.97752992 0.97635988\n",
            " 0.97922344 0.97602127 0.96016404 0.96518288 0.97839212 0.97639076\n",
            " 0.9869827  0.98769212 0.99432418 1.         0.98988223 0.98325016\n",
            " 0.98395968 0.95857265 0.98001128 0.96137973 0.95980651 0.95798656\n",
            " 0.93799783 0.94780712 0.97473649 0.97489068 0.96912233 0.9982418\n",
            " 0.98855583 0.95443918 0.97390356 0.94382785 0.94043467 0.92843528\n",
            " 0.9512003  0.96943082 0.97402697 0.99796419 0.99426252 0.99642184\n",
            " 0.9883091  0.93628222 0.9334445  0.92435157 0.91194248 0.89835411\n",
            " 0.88482726 0.87197763 0.86006647 0.84917516 0.83929974 0.83039004\n",
            " 0.82236975 0.81514597 0.80861497 0.80266953]\n",
            "15 day output [[0.7972036]]\n",
            "16 day input [0.87096385 0.86887005 0.86883936 0.86588335 0.8659757  0.85686181\n",
            " 0.85212002 0.85606117 0.86468263 0.88017028 0.88140188 0.8649289\n",
            " 0.84777851 0.84931803 0.86095687 0.86397435 0.86332781 0.84737833\n",
            " 0.81458629 0.81606424 0.8096599  0.83176746 0.81332391 0.83072065\n",
            " 0.8441144  0.84947204 0.84947204 0.84756303 0.8434063  0.85396746\n",
            " 0.87379653 0.87829196 0.88777553 0.89066987 0.88814502 0.89845982\n",
            " 0.89353334 0.89036195 0.89645837 0.93667097 0.9403042  0.9626889\n",
            " 0.95576106 0.96733834 0.97001701 0.97752992 0.97635988 0.97922344\n",
            " 0.97602127 0.96016404 0.96518288 0.97839212 0.97639076 0.9869827\n",
            " 0.98769212 0.99432418 1.         0.98988223 0.98325016 0.98395968\n",
            " 0.95857265 0.98001128 0.96137973 0.95980651 0.95798656 0.93799783\n",
            " 0.94780712 0.97473649 0.97489068 0.96912233 0.9982418  0.98855583\n",
            " 0.95443918 0.97390356 0.94382785 0.94043467 0.92843528 0.9512003\n",
            " 0.96943082 0.97402697 0.99796419 0.99426252 0.99642184 0.9883091\n",
            " 0.93628222 0.9334445  0.92435157 0.91194248 0.89835411 0.88482726\n",
            " 0.87197763 0.86006647 0.84917516 0.83929974 0.83039004 0.82236975\n",
            " 0.81514597 0.80861497 0.80266953 0.7972036 ]\n",
            "16 day output [[0.79211926]]\n",
            "17 day input [0.86887005 0.86883936 0.86588335 0.8659757  0.85686181 0.85212002\n",
            " 0.85606117 0.86468263 0.88017028 0.88140188 0.8649289  0.84777851\n",
            " 0.84931803 0.86095687 0.86397435 0.86332781 0.84737833 0.81458629\n",
            " 0.81606424 0.8096599  0.83176746 0.81332391 0.83072065 0.8441144\n",
            " 0.84947204 0.84947204 0.84756303 0.8434063  0.85396746 0.87379653\n",
            " 0.87829196 0.88777553 0.89066987 0.88814502 0.89845982 0.89353334\n",
            " 0.89036195 0.89645837 0.93667097 0.9403042  0.9626889  0.95576106\n",
            " 0.96733834 0.97001701 0.97752992 0.97635988 0.97922344 0.97602127\n",
            " 0.96016404 0.96518288 0.97839212 0.97639076 0.9869827  0.98769212\n",
            " 0.99432418 1.         0.98988223 0.98325016 0.98395968 0.95857265\n",
            " 0.98001128 0.96137973 0.95980651 0.95798656 0.93799783 0.94780712\n",
            " 0.97473649 0.97489068 0.96912233 0.9982418  0.98855583 0.95443918\n",
            " 0.97390356 0.94382785 0.94043467 0.92843528 0.9512003  0.96943082\n",
            " 0.97402697 0.99796419 0.99426252 0.99642184 0.9883091  0.93628222\n",
            " 0.9334445  0.92435157 0.91194248 0.89835411 0.88482726 0.87197763\n",
            " 0.86006647 0.84917516 0.83929974 0.83039004 0.82236975 0.81514597\n",
            " 0.80861497 0.80266953 0.7972036  0.79211926]\n",
            "17 day output [[0.78732747]]\n",
            "18 day input [0.86883936 0.86588335 0.8659757  0.85686181 0.85212002 0.85606117\n",
            " 0.86468263 0.88017028 0.88140188 0.8649289  0.84777851 0.84931803\n",
            " 0.86095687 0.86397435 0.86332781 0.84737833 0.81458629 0.81606424\n",
            " 0.8096599  0.83176746 0.81332391 0.83072065 0.8441144  0.84947204\n",
            " 0.84947204 0.84756303 0.8434063  0.85396746 0.87379653 0.87829196\n",
            " 0.88777553 0.89066987 0.88814502 0.89845982 0.89353334 0.89036195\n",
            " 0.89645837 0.93667097 0.9403042  0.9626889  0.95576106 0.96733834\n",
            " 0.97001701 0.97752992 0.97635988 0.97922344 0.97602127 0.96016404\n",
            " 0.96518288 0.97839212 0.97639076 0.9869827  0.98769212 0.99432418\n",
            " 1.         0.98988223 0.98325016 0.98395968 0.95857265 0.98001128\n",
            " 0.96137973 0.95980651 0.95798656 0.93799783 0.94780712 0.97473649\n",
            " 0.97489068 0.96912233 0.9982418  0.98855583 0.95443918 0.97390356\n",
            " 0.94382785 0.94043467 0.92843528 0.9512003  0.96943082 0.97402697\n",
            " 0.99796419 0.99426252 0.99642184 0.9883091  0.93628222 0.9334445\n",
            " 0.92435157 0.91194248 0.89835411 0.88482726 0.87197763 0.86006647\n",
            " 0.84917516 0.83929974 0.83039004 0.82236975 0.81514597 0.80861497\n",
            " 0.80266953 0.7972036  0.79211926 0.78732747]\n",
            "18 day output [[0.78275263]]\n",
            "19 day input [0.86588335 0.8659757  0.85686181 0.85212002 0.85606117 0.86468263\n",
            " 0.88017028 0.88140188 0.8649289  0.84777851 0.84931803 0.86095687\n",
            " 0.86397435 0.86332781 0.84737833 0.81458629 0.81606424 0.8096599\n",
            " 0.83176746 0.81332391 0.83072065 0.8441144  0.84947204 0.84947204\n",
            " 0.84756303 0.8434063  0.85396746 0.87379653 0.87829196 0.88777553\n",
            " 0.89066987 0.88814502 0.89845982 0.89353334 0.89036195 0.89645837\n",
            " 0.93667097 0.9403042  0.9626889  0.95576106 0.96733834 0.97001701\n",
            " 0.97752992 0.97635988 0.97922344 0.97602127 0.96016404 0.96518288\n",
            " 0.97839212 0.97639076 0.9869827  0.98769212 0.99432418 1.\n",
            " 0.98988223 0.98325016 0.98395968 0.95857265 0.98001128 0.96137973\n",
            " 0.95980651 0.95798656 0.93799783 0.94780712 0.97473649 0.97489068\n",
            " 0.96912233 0.9982418  0.98855583 0.95443918 0.97390356 0.94382785\n",
            " 0.94043467 0.92843528 0.9512003  0.96943082 0.97402697 0.99796419\n",
            " 0.99426252 0.99642184 0.9883091  0.93628222 0.9334445  0.92435157\n",
            " 0.91194248 0.89835411 0.88482726 0.87197763 0.86006647 0.84917516\n",
            " 0.83929974 0.83039004 0.82236975 0.81514597 0.80861497 0.80266953\n",
            " 0.7972036  0.79211926 0.78732747 0.78275263]\n",
            "19 day output [[0.7783318]]\n",
            "20 day input [0.8659757  0.85686181 0.85212002 0.85606117 0.86468263 0.88017028\n",
            " 0.88140188 0.8649289  0.84777851 0.84931803 0.86095687 0.86397435\n",
            " 0.86332781 0.84737833 0.81458629 0.81606424 0.8096599  0.83176746\n",
            " 0.81332391 0.83072065 0.8441144  0.84947204 0.84947204 0.84756303\n",
            " 0.8434063  0.85396746 0.87379653 0.87829196 0.88777553 0.89066987\n",
            " 0.88814502 0.89845982 0.89353334 0.89036195 0.89645837 0.93667097\n",
            " 0.9403042  0.9626889  0.95576106 0.96733834 0.97001701 0.97752992\n",
            " 0.97635988 0.97922344 0.97602127 0.96016404 0.96518288 0.97839212\n",
            " 0.97639076 0.9869827  0.98769212 0.99432418 1.         0.98988223\n",
            " 0.98325016 0.98395968 0.95857265 0.98001128 0.96137973 0.95980651\n",
            " 0.95798656 0.93799783 0.94780712 0.97473649 0.97489068 0.96912233\n",
            " 0.9982418  0.98855583 0.95443918 0.97390356 0.94382785 0.94043467\n",
            " 0.92843528 0.9512003  0.96943082 0.97402697 0.99796419 0.99426252\n",
            " 0.99642184 0.9883091  0.93628222 0.9334445  0.92435157 0.91194248\n",
            " 0.89835411 0.88482726 0.87197763 0.86006647 0.84917516 0.83929974\n",
            " 0.83039004 0.82236975 0.81514597 0.80861497 0.80266953 0.7972036\n",
            " 0.79211926 0.78732747 0.78275263 0.77833182]\n",
            "20 day output [[0.7740167]]\n",
            "21 day input [0.85686181 0.85212002 0.85606117 0.86468263 0.88017028 0.88140188\n",
            " 0.8649289  0.84777851 0.84931803 0.86095687 0.86397435 0.86332781\n",
            " 0.84737833 0.81458629 0.81606424 0.8096599  0.83176746 0.81332391\n",
            " 0.83072065 0.8441144  0.84947204 0.84947204 0.84756303 0.8434063\n",
            " 0.85396746 0.87379653 0.87829196 0.88777553 0.89066987 0.88814502\n",
            " 0.89845982 0.89353334 0.89036195 0.89645837 0.93667097 0.9403042\n",
            " 0.9626889  0.95576106 0.96733834 0.97001701 0.97752992 0.97635988\n",
            " 0.97922344 0.97602127 0.96016404 0.96518288 0.97839212 0.97639076\n",
            " 0.9869827  0.98769212 0.99432418 1.         0.98988223 0.98325016\n",
            " 0.98395968 0.95857265 0.98001128 0.96137973 0.95980651 0.95798656\n",
            " 0.93799783 0.94780712 0.97473649 0.97489068 0.96912233 0.9982418\n",
            " 0.98855583 0.95443918 0.97390356 0.94382785 0.94043467 0.92843528\n",
            " 0.9512003  0.96943082 0.97402697 0.99796419 0.99426252 0.99642184\n",
            " 0.9883091  0.93628222 0.9334445  0.92435157 0.91194248 0.89835411\n",
            " 0.88482726 0.87197763 0.86006647 0.84917516 0.83929974 0.83039004\n",
            " 0.82236975 0.81514597 0.80861497 0.80266953 0.7972036  0.79211926\n",
            " 0.78732747 0.78275263 0.77833182 0.77401668]\n",
            "21 day output [[0.76977074]]\n",
            "22 day input [0.85212002 0.85606117 0.86468263 0.88017028 0.88140188 0.8649289\n",
            " 0.84777851 0.84931803 0.86095687 0.86397435 0.86332781 0.84737833\n",
            " 0.81458629 0.81606424 0.8096599  0.83176746 0.81332391 0.83072065\n",
            " 0.8441144  0.84947204 0.84947204 0.84756303 0.8434063  0.85396746\n",
            " 0.87379653 0.87829196 0.88777553 0.89066987 0.88814502 0.89845982\n",
            " 0.89353334 0.89036195 0.89645837 0.93667097 0.9403042  0.9626889\n",
            " 0.95576106 0.96733834 0.97001701 0.97752992 0.97635988 0.97922344\n",
            " 0.97602127 0.96016404 0.96518288 0.97839212 0.97639076 0.9869827\n",
            " 0.98769212 0.99432418 1.         0.98988223 0.98325016 0.98395968\n",
            " 0.95857265 0.98001128 0.96137973 0.95980651 0.95798656 0.93799783\n",
            " 0.94780712 0.97473649 0.97489068 0.96912233 0.9982418  0.98855583\n",
            " 0.95443918 0.97390356 0.94382785 0.94043467 0.92843528 0.9512003\n",
            " 0.96943082 0.97402697 0.99796419 0.99426252 0.99642184 0.9883091\n",
            " 0.93628222 0.9334445  0.92435157 0.91194248 0.89835411 0.88482726\n",
            " 0.87197763 0.86006647 0.84917516 0.83929974 0.83039004 0.82236975\n",
            " 0.81514597 0.80861497 0.80266953 0.7972036  0.79211926 0.78732747\n",
            " 0.78275263 0.77833182 0.77401668 0.76977074]\n",
            "22 day output [[0.76556903]]\n",
            "23 day input [0.85606117 0.86468263 0.88017028 0.88140188 0.8649289  0.84777851\n",
            " 0.84931803 0.86095687 0.86397435 0.86332781 0.84737833 0.81458629\n",
            " 0.81606424 0.8096599  0.83176746 0.81332391 0.83072065 0.8441144\n",
            " 0.84947204 0.84947204 0.84756303 0.8434063  0.85396746 0.87379653\n",
            " 0.87829196 0.88777553 0.89066987 0.88814502 0.89845982 0.89353334\n",
            " 0.89036195 0.89645837 0.93667097 0.9403042  0.9626889  0.95576106\n",
            " 0.96733834 0.97001701 0.97752992 0.97635988 0.97922344 0.97602127\n",
            " 0.96016404 0.96518288 0.97839212 0.97639076 0.9869827  0.98769212\n",
            " 0.99432418 1.         0.98988223 0.98325016 0.98395968 0.95857265\n",
            " 0.98001128 0.96137973 0.95980651 0.95798656 0.93799783 0.94780712\n",
            " 0.97473649 0.97489068 0.96912233 0.9982418  0.98855583 0.95443918\n",
            " 0.97390356 0.94382785 0.94043467 0.92843528 0.9512003  0.96943082\n",
            " 0.97402697 0.99796419 0.99426252 0.99642184 0.9883091  0.93628222\n",
            " 0.9334445  0.92435157 0.91194248 0.89835411 0.88482726 0.87197763\n",
            " 0.86006647 0.84917516 0.83929974 0.83039004 0.82236975 0.81514597\n",
            " 0.80861497 0.80266953 0.7972036  0.79211926 0.78732747 0.78275263\n",
            " 0.77833182 0.77401668 0.76977074 0.76556903]\n",
            "23 day output [[0.7613968]]\n",
            "24 day input [0.86468263 0.88017028 0.88140188 0.8649289  0.84777851 0.84931803\n",
            " 0.86095687 0.86397435 0.86332781 0.84737833 0.81458629 0.81606424\n",
            " 0.8096599  0.83176746 0.81332391 0.83072065 0.8441144  0.84947204\n",
            " 0.84947204 0.84756303 0.8434063  0.85396746 0.87379653 0.87829196\n",
            " 0.88777553 0.89066987 0.88814502 0.89845982 0.89353334 0.89036195\n",
            " 0.89645837 0.93667097 0.9403042  0.9626889  0.95576106 0.96733834\n",
            " 0.97001701 0.97752992 0.97635988 0.97922344 0.97602127 0.96016404\n",
            " 0.96518288 0.97839212 0.97639076 0.9869827  0.98769212 0.99432418\n",
            " 1.         0.98988223 0.98325016 0.98395968 0.95857265 0.98001128\n",
            " 0.96137973 0.95980651 0.95798656 0.93799783 0.94780712 0.97473649\n",
            " 0.97489068 0.96912233 0.9982418  0.98855583 0.95443918 0.97390356\n",
            " 0.94382785 0.94043467 0.92843528 0.9512003  0.96943082 0.97402697\n",
            " 0.99796419 0.99426252 0.99642184 0.9883091  0.93628222 0.9334445\n",
            " 0.92435157 0.91194248 0.89835411 0.88482726 0.87197763 0.86006647\n",
            " 0.84917516 0.83929974 0.83039004 0.82236975 0.81514597 0.80861497\n",
            " 0.80266953 0.7972036  0.79211926 0.78732747 0.78275263 0.77833182\n",
            " 0.77401668 0.76977074 0.76556903 0.76139683]\n",
            "24 day output [[0.7572472]]\n",
            "25 day input [0.88017028 0.88140188 0.8649289  0.84777851 0.84931803 0.86095687\n",
            " 0.86397435 0.86332781 0.84737833 0.81458629 0.81606424 0.8096599\n",
            " 0.83176746 0.81332391 0.83072065 0.8441144  0.84947204 0.84947204\n",
            " 0.84756303 0.8434063  0.85396746 0.87379653 0.87829196 0.88777553\n",
            " 0.89066987 0.88814502 0.89845982 0.89353334 0.89036195 0.89645837\n",
            " 0.93667097 0.9403042  0.9626889  0.95576106 0.96733834 0.97001701\n",
            " 0.97752992 0.97635988 0.97922344 0.97602127 0.96016404 0.96518288\n",
            " 0.97839212 0.97639076 0.9869827  0.98769212 0.99432418 1.\n",
            " 0.98988223 0.98325016 0.98395968 0.95857265 0.98001128 0.96137973\n",
            " 0.95980651 0.95798656 0.93799783 0.94780712 0.97473649 0.97489068\n",
            " 0.96912233 0.9982418  0.98855583 0.95443918 0.97390356 0.94382785\n",
            " 0.94043467 0.92843528 0.9512003  0.96943082 0.97402697 0.99796419\n",
            " 0.99426252 0.99642184 0.9883091  0.93628222 0.9334445  0.92435157\n",
            " 0.91194248 0.89835411 0.88482726 0.87197763 0.86006647 0.84917516\n",
            " 0.83929974 0.83039004 0.82236975 0.81514597 0.80861497 0.80266953\n",
            " 0.7972036  0.79211926 0.78732747 0.78275263 0.77833182 0.77401668\n",
            " 0.76977074 0.76556903 0.76139683 0.75724721]\n",
            "25 day output [[0.7531195]]\n",
            "26 day input [0.88140188 0.8649289  0.84777851 0.84931803 0.86095687 0.86397435\n",
            " 0.86332781 0.84737833 0.81458629 0.81606424 0.8096599  0.83176746\n",
            " 0.81332391 0.83072065 0.8441144  0.84947204 0.84947204 0.84756303\n",
            " 0.8434063  0.85396746 0.87379653 0.87829196 0.88777553 0.89066987\n",
            " 0.88814502 0.89845982 0.89353334 0.89036195 0.89645837 0.93667097\n",
            " 0.9403042  0.9626889  0.95576106 0.96733834 0.97001701 0.97752992\n",
            " 0.97635988 0.97922344 0.97602127 0.96016404 0.96518288 0.97839212\n",
            " 0.97639076 0.9869827  0.98769212 0.99432418 1.         0.98988223\n",
            " 0.98325016 0.98395968 0.95857265 0.98001128 0.96137973 0.95980651\n",
            " 0.95798656 0.93799783 0.94780712 0.97473649 0.97489068 0.96912233\n",
            " 0.9982418  0.98855583 0.95443918 0.97390356 0.94382785 0.94043467\n",
            " 0.92843528 0.9512003  0.96943082 0.97402697 0.99796419 0.99426252\n",
            " 0.99642184 0.9883091  0.93628222 0.9334445  0.92435157 0.91194248\n",
            " 0.89835411 0.88482726 0.87197763 0.86006647 0.84917516 0.83929974\n",
            " 0.83039004 0.82236975 0.81514597 0.80861497 0.80266953 0.7972036\n",
            " 0.79211926 0.78732747 0.78275263 0.77833182 0.77401668 0.76977074\n",
            " 0.76556903 0.76139683 0.75724721 0.75311953]\n",
            "26 day output [[0.7490176]]\n",
            "27 day input [0.8649289  0.84777851 0.84931803 0.86095687 0.86397435 0.86332781\n",
            " 0.84737833 0.81458629 0.81606424 0.8096599  0.83176746 0.81332391\n",
            " 0.83072065 0.8441144  0.84947204 0.84947204 0.84756303 0.8434063\n",
            " 0.85396746 0.87379653 0.87829196 0.88777553 0.89066987 0.88814502\n",
            " 0.89845982 0.89353334 0.89036195 0.89645837 0.93667097 0.9403042\n",
            " 0.9626889  0.95576106 0.96733834 0.97001701 0.97752992 0.97635988\n",
            " 0.97922344 0.97602127 0.96016404 0.96518288 0.97839212 0.97639076\n",
            " 0.9869827  0.98769212 0.99432418 1.         0.98988223 0.98325016\n",
            " 0.98395968 0.95857265 0.98001128 0.96137973 0.95980651 0.95798656\n",
            " 0.93799783 0.94780712 0.97473649 0.97489068 0.96912233 0.9982418\n",
            " 0.98855583 0.95443918 0.97390356 0.94382785 0.94043467 0.92843528\n",
            " 0.9512003  0.96943082 0.97402697 0.99796419 0.99426252 0.99642184\n",
            " 0.9883091  0.93628222 0.9334445  0.92435157 0.91194248 0.89835411\n",
            " 0.88482726 0.87197763 0.86006647 0.84917516 0.83929974 0.83039004\n",
            " 0.82236975 0.81514597 0.80861497 0.80266953 0.7972036  0.79211926\n",
            " 0.78732747 0.78275263 0.77833182 0.77401668 0.76977074 0.76556903\n",
            " 0.76139683 0.75724721 0.75311953 0.7490176 ]\n",
            "27 day output [[0.7449485]]\n",
            "28 day input [0.84777851 0.84931803 0.86095687 0.86397435 0.86332781 0.84737833\n",
            " 0.81458629 0.81606424 0.8096599  0.83176746 0.81332391 0.83072065\n",
            " 0.8441144  0.84947204 0.84947204 0.84756303 0.8434063  0.85396746\n",
            " 0.87379653 0.87829196 0.88777553 0.89066987 0.88814502 0.89845982\n",
            " 0.89353334 0.89036195 0.89645837 0.93667097 0.9403042  0.9626889\n",
            " 0.95576106 0.96733834 0.97001701 0.97752992 0.97635988 0.97922344\n",
            " 0.97602127 0.96016404 0.96518288 0.97839212 0.97639076 0.9869827\n",
            " 0.98769212 0.99432418 1.         0.98988223 0.98325016 0.98395968\n",
            " 0.95857265 0.98001128 0.96137973 0.95980651 0.95798656 0.93799783\n",
            " 0.94780712 0.97473649 0.97489068 0.96912233 0.9982418  0.98855583\n",
            " 0.95443918 0.97390356 0.94382785 0.94043467 0.92843528 0.9512003\n",
            " 0.96943082 0.97402697 0.99796419 0.99426252 0.99642184 0.9883091\n",
            " 0.93628222 0.9334445  0.92435157 0.91194248 0.89835411 0.88482726\n",
            " 0.87197763 0.86006647 0.84917516 0.83929974 0.83039004 0.82236975\n",
            " 0.81514597 0.80861497 0.80266953 0.7972036  0.79211926 0.78732747\n",
            " 0.78275263 0.77833182 0.77401668 0.76977074 0.76556903 0.76139683\n",
            " 0.75724721 0.75311953 0.7490176  0.74494851]\n",
            "28 day output [[0.740921]]\n",
            "29 day input [0.84931803 0.86095687 0.86397435 0.86332781 0.84737833 0.81458629\n",
            " 0.81606424 0.8096599  0.83176746 0.81332391 0.83072065 0.8441144\n",
            " 0.84947204 0.84947204 0.84756303 0.8434063  0.85396746 0.87379653\n",
            " 0.87829196 0.88777553 0.89066987 0.88814502 0.89845982 0.89353334\n",
            " 0.89036195 0.89645837 0.93667097 0.9403042  0.9626889  0.95576106\n",
            " 0.96733834 0.97001701 0.97752992 0.97635988 0.97922344 0.97602127\n",
            " 0.96016404 0.96518288 0.97839212 0.97639076 0.9869827  0.98769212\n",
            " 0.99432418 1.         0.98988223 0.98325016 0.98395968 0.95857265\n",
            " 0.98001128 0.96137973 0.95980651 0.95798656 0.93799783 0.94780712\n",
            " 0.97473649 0.97489068 0.96912233 0.9982418  0.98855583 0.95443918\n",
            " 0.97390356 0.94382785 0.94043467 0.92843528 0.9512003  0.96943082\n",
            " 0.97402697 0.99796419 0.99426252 0.99642184 0.9883091  0.93628222\n",
            " 0.9334445  0.92435157 0.91194248 0.89835411 0.88482726 0.87197763\n",
            " 0.86006647 0.84917516 0.83929974 0.83039004 0.82236975 0.81514597\n",
            " 0.80861497 0.80266953 0.7972036  0.79211926 0.78732747 0.78275263\n",
            " 0.77833182 0.77401668 0.76977074 0.76556903 0.76139683 0.75724721\n",
            " 0.75311953 0.7490176  0.74494851 0.74092102]\n",
            "29 day output [[0.73694426]]\n"
          ]
        }
      ],
      "source": [
        "# Prediction for next 30 days\n",
        "\n",
        "lst_output=[]\n",
        "n_steps=100\n",
        "i=0\n",
        "while(i<30):\n",
        "\n",
        "    if len(temp_input)>100:\n",
        "        # Shifting x_input to next day\n",
        "        x_input=np.array(temp_input[1:])\n",
        "        print(\"{} day input {}\".format(i,x_input))\n",
        "        x_input=x_input.reshape(1,-1)\n",
        "        x_input = x_input.reshape((1, n_steps, 1))\n",
        "        #print(x_input)\n",
        "        yhat = model.predict(x_input, verbose=0)\n",
        "        print(\"{} day output {}\".format(i,yhat))\n",
        "        temp_input.extend(yhat[0].tolist())\n",
        "        temp_input=temp_input[1:]\n",
        "        #print(temp_input)\n",
        "        lst_output.extend(yhat.tolist())\n",
        "        i=i+1\n",
        "    else:\n",
        "        x_input = x_input.reshape((1, n_steps,1))\n",
        "        # Predict next day\n",
        "        yhat = model.predict(x_input, verbose=0)\n",
        "        print(yhat[0])\n",
        "        temp_input.extend(yhat[0].tolist())\n",
        "        print(len(temp_input))\n",
        "        lst_output.extend(yhat.tolist())\n",
        "        i=i+1\n"
      ],
      "metadata": {
        "pycharm": {
          "name": "#%%\n"
        },
        "colab": {
          "base_uri": "https://localhost:8080/"
        },
        "id": "KKS77DD2ma7L",
        "outputId": "e02e7a3b-ca57-4765-b640-c202050b1269"
      }
    },
    {
      "cell_type": "code",
      "execution_count": null,
      "outputs": [
        {
          "output_type": "stream",
          "name": "stdout",
          "text": [
            "[[0.936282217502594], [0.9334444999694824], [0.9243515729904175], [0.9119424819946289], [0.8983541131019592], [0.8848272562026978], [0.8719776272773743], [0.8600664734840393], [0.8491751551628113], [0.839299738407135], [0.8303900361061096], [0.8223697543144226], [0.8151459693908691], [0.80861496925354], [0.8026695251464844], [0.7972036004066467], [0.7921192646026611], [0.7873274683952332], [0.7827526330947876], [0.7783318161964417], [0.7740166783332825], [0.7697707414627075], [0.7655690312385559], [0.7613968253135681], [0.7572472095489502], [0.7531195282936096], [0.749017596244812], [0.7449485063552856], [0.7409210205078125], [0.7369442582130432]]\n"
          ]
        }
      ],
      "source": [
        "print(lst_output)"
      ],
      "metadata": {
        "pycharm": {
          "name": "#%%\n"
        },
        "colab": {
          "base_uri": "https://localhost:8080/"
        },
        "id": "akYWptHema7M",
        "outputId": "fcbe3d76-6148-4e26-b5b0-1afa2fec561b"
      }
    },
    {
      "cell_type": "code",
      "execution_count": null,
      "outputs": [],
      "source": [
        "day_new=np.arange(1,101)\n",
        "day_pred=np.arange(101,131)"
      ],
      "metadata": {
        "pycharm": {
          "name": "#%%\n"
        },
        "id": "Wq6Q0wBjma7M"
      }
    },
    {
      "cell_type": "code",
      "execution_count": null,
      "outputs": [
        {
          "output_type": "execute_result",
          "data": {
            "text/plain": [
              "2768"
            ]
          },
          "metadata": {},
          "execution_count": 31
        }
      ],
      "source": [
        "len(df)"
      ],
      "metadata": {
        "pycharm": {
          "name": "#%%\n"
        },
        "colab": {
          "base_uri": "https://localhost:8080/"
        },
        "id": "4rpqHDZxma7M",
        "outputId": "35ae5250-352d-4667-ba39-b73770696dc3"
      }
    },
    {
      "cell_type": "code",
      "execution_count": null,
      "outputs": [
        {
          "output_type": "execute_result",
          "data": {
            "text/plain": [
              "[<matplotlib.lines.Line2D at 0x7f56e7d39890>]"
            ]
          },
          "metadata": {},
          "execution_count": 32
        },
        {
          "output_type": "display_data",
          "data": {
            "image/png": "[encoded data removed]",
            "text/plain": [
              "<Figure size 432x288 with 1 Axes>"
            ]
          },
          "metadata": {
            "needs_background": "light"
          }
        }
      ],
      "source": [
        "# Plot real 100 close value\n",
        "plt.plot(day_new,scaler.inverse_transform(df[2668:]))\n",
        "plt.plot(day_pred,scaler.inverse_transform(lst_output))"
      ],
      "metadata": {
        "pycharm": {
          "name": "#%%\n"
        },
        "colab": {
          "base_uri": "https://localhost:8080/",
          "height": 72
        },
        "id": "n8hu7R5Ima7N",
        "outputId": "d07848d4-6b1c-4dc0-a675-0b3f953ca75b"
      }
    },
    {
      "cell_type": "code",
      "execution_count": null,
      "outputs": [],
      "source": [
        "df_new=df.tolist()\n",
        "df_new.extend(lst_output)"
      ],
      "metadata": {
        "pycharm": {
          "name": "#%%\n"
        },
        "id": "GA2oyHsJma7N"
      }
    },
    {
      "cell_type": "code",
      "execution_count": null,
      "outputs": [
        {
          "output_type": "execute_result",
          "data": {
            "text/plain": [
              "2798"
            ]
          },
          "metadata": {},
          "execution_count": 34
        }
      ],
      "source": [
        "len(df_new)"
      ],
      "metadata": {
        "pycharm": {
          "name": "#%%\n"
        },
        "colab": {
          "base_uri": "https://localhost:8080/"
        },
        "id": "l3fJmbuTma7N",
        "outputId": "7fad1cfb-1dfd-471b-b9dc-018225ea9060"
      }
    },
    {
      "cell_type": "code",
      "execution_count": null,
      "outputs": [
        {
          "output_type": "execute_result",
          "data": {
            "text/plain": [
              "[<matplotlib.lines.Line2D at 0x7f56e7d44450>]"
            ]
          },
          "metadata": {},
          "execution_count": 35
        },
        {
          "output_type": "display_data",
          "data": {
            "image/png": "[encoded data removed]",
            "text/plain": [
              "<Figure size 432x288 with 1 Axes>"
            ]
          },
          "metadata": {
            "needs_background": "light"
          }
        }
      ],
      "source": [
        "plt.plot(df)"
      ],
      "metadata": {
        "pycharm": {
          "name": "#%%\n"
        },
        "colab": {
          "base_uri": "https://localhost:8080/",
          "height": 282
        },
        "id": "_kQJ1fh3ma7N",
        "outputId": "7c851442-7277-4315-83f1-fec602e8b818"
      }
    },
    {
      "cell_type": "code",
      "execution_count": null,
      "outputs": [
        {
          "output_type": "execute_result",
          "data": {
            "text/plain": [
              "[<matplotlib.lines.Line2D at 0x7f56e7c7d490>]"
            ]
          },
          "metadata": {},
          "execution_count": 36
        },
        {
          "output_type": "display_data",
          "data": {
            "image/png": "[encoded data removed]",
            "text/plain": [
              "<Figure size 432x288 with 1 Axes>"
            ]
          },
          "metadata": {
            "needs_background": "light"
          }
        }
      ],
      "source": [
        "df_new=scaler.inverse_transform(df_new).tolist()\n",
        "# plt.subplots(old_df, df_new)\n",
        "plt.plot(df)\n",
        "plt.plot(df_new)"
      ],
      "metadata": {
        "pycharm": {
          "name": "#%%\n"
        },
        "colab": {
          "base_uri": "https://localhost:8080/",
          "height": 282
        },
        "id": "thG8KFEKma7N",
        "outputId": "80f1c729-3b6c-4d59-dbcd-686a24bb14bf"
      }
    }
  ],
  "metadata": {
    "kernelspec": {
      "display_name": "Python 3 (ipykernel)",
      "language": "python",
      "name": "python3"
    },
    "language_info": {
      "codemirror_mode": {
        "name": "ipython",
        "version": 3
      },
      "file_extension": ".py",
      "mimetype": "text/x-python",
      "name": "python",
      "nbconvert_exporter": "python",
      "pygments_lexer": "ipython3",
      "version": "3.9.7"
    },
    "colab": {
      "name": "LSTM-Microsoft.ipynb",
      "provenance": [],
      "collapsed_sections": []
    }
  },
  "nbformat": 4,
  "nbformat_minor": 0
}